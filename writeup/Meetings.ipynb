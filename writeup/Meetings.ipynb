{
 "cells": [
  {
   "cell_type": "markdown",
   "metadata": {},
   "source": [
    "# Meetings"
   ]
  },
  {
   "cell_type": "markdown",
   "metadata": {},
   "source": [
    "## 20171005 m&m fine mapping meeting\n",
    "\n",
    "With Peter (mostly) and Matthew (briefly). We discussed various stuff on current modeling steps 1 and 2, making sure we are on the same page. \n",
    "\n",
    "![](img/IMG_20171005_1.jpg)"
   ]
  },
  {
   "cell_type": "markdown",
   "metadata": {},
   "source": [
    "We then discussed a simple MH sampling scheme. The key is, as suggested by Matthew and formalized by Peter, to sample 2 SNPs jointly at each move.\n",
    "\n",
    "![](img/IMG_20171005_2.jpg)\n",
    "\n",
    "Gao will work out the algorithm details and a draft implementation."
   ]
  },
  {
   "cell_type": "markdown",
   "metadata": {},
   "source": [
    "## 20171002 GTEx fine mapping meeting\n",
    "Goal: methods do not repeat each-other; should build on each other.\n",
    "\n",
    "### What is fine-mapping\n",
    "* probability estimates of each variant being causal\n",
    "    * how to verify it? experimentally?\n",
    "* Should use 1MB region?\n",
    "    * 100KB should not lose a lot.\n",
    "\n",
    "### Fine-mapping methods\n",
    "Analyse/benchmark one data-set using all methods. The best tissue might be Thyroid to test it out.\n",
    "* people are interested in it.\n",
    "* we can report results in a few weeks\n",
    "\n",
    "Methods out there (in the conference call):\n",
    "* CaVEMaN, DAP, CAVIAR\n",
    "* Can provide these results in a few weeks\n",
    "    * 2MB radius\n",
    "    * on Thyroid data\n",
    "    * channel in Slack for this topic\n",
    "\n",
    "General flavors\n",
    "* Enrichment of eQTLs giving annotations: \n",
    "    * @william: Same model but various ways to estimate priors. Open to different prior options. Also see concensus results from different methods is also important.\n",
    "    * But measuring consensus is difficult. Correlation is high but individual level there are problems.\n",
    "* Conditional analysis: soon to be uploaded to `exchange`\n",
    "* Additional type of integrated analysis\n",
    "    * @eric\n",
    "    \n",
    "Provide fine-mapping results for the community\n",
    "\n",
    "### cell-specific QTL    \n",
    "* Fine-mapping for **cell-specific** QTL: cell-type deconvolution to get proportion of cells.\n",
    "    * interaction terms / interaction testing?\n",
    "\n",
    "Provide fine-mapping results for the community\n",
    "\n",
    "### Splicing QTLs\n",
    "Can we fine-map splice QTLs?\n",
    "\n",
    "### Interest in fine-mapping companion paper?\n",
    "People are interested. There is also co-localization working group, but not progressing much.\n",
    "\n",
    "### Interest in multi-tissue fine-mapping?\n",
    "It is important but computationally hard. William is the only one who positively responed, but he only agree to do a few tissues.\n",
    "\n",
    "### Other related stuff\n",
    "* Sharing of results"
   ]
  }
 ],
 "metadata": {
  "kernelspec": {
   "display_name": "SoS",
   "language": "sos",
   "name": "sos"
  },
  "language_info": {
   "codemirror_mode": "sos",
   "file_extension": ".sos",
   "mimetype": "text/x-sos",
   "name": "sos",
   "nbconvert_exporter": "sos.jupyter.converter.SoS_Exporter",
   "pygments_lexer": "sos"
  },
  "sos": {
   "default_kernel": "SoS",
   "kernels": [
    [
     "Python3",
     "python3",
     "Python3",
     "#FFE771"
    ],
    [
     "R",
     "ir",
     "R",
     "#DCDCDA"
    ],
    [
     "SoS",
     "sos",
     "",
     ""
    ]
   ],
   "panel": {
    "displayed": true,
    "height": 0,
    "style": "side"
   }
  }
 },
 "nbformat": 4,
 "nbformat_minor": 2
}
