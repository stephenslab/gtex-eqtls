{
 "cells": [
  {
   "cell_type": "markdown",
   "metadata": {},
   "source": [
    "## Process expression and covariate data\n",
    "Save V8 covariates to HDF5 format, for use with downstream analysis.\n",
    "\n",
    "For covariate data we also compute a version of its orthonormal basis to be used for `mr-ash` analysis."
   ]
  },
  {
   "cell_type": "code",
   "execution_count": null,
   "metadata": {
    "collapsed": true
   },
   "outputs": [],
   "source": [
    "[global]\n",
    "cwd = \"~/Documents/GTExV8\""
   ]
  },
  {
   "cell_type": "code",
   "execution_count": null,
   "metadata": {
    "collapsed": true
   },
   "outputs": [],
   "source": [
    "[format_covariates]\n",
    "# Consolidate covariates to HDF5 format\n",
    "input: glob.glob(\"${cwd!a}/GTEx_Analysis_v8_eQTL_covariates/*.v8.covariates.txt\")\n",
    "output: \"${cwd!a}/GTExV8.covariates.h5\", \"${cwd!a}/GTExV8.covariates.orth.h5\"\n",
    "task: workdir = cwd\n",
    "python:\n",
    "    for item in [${input!ar,}]:\n",
    "        peer = pd.read_csv(item, header = 0, sep = '\\t', index_col = 0).transpose()\n",
    "        samples = {}\n",
    "        for x in peer.index:\n",
    "            samples[x] = dat.loc['-'.join(x.split('-')[:2])].tolist()\n",
    "        samples = pd.DataFrame(samples).transpose()\n",
    "        samples.columns = dat.columns\n",
    "        samples = samples.merge(peer, left_index = True, right_index = True)\n",
    "        samples.to_hdf(${output[0]!ar}, '/{}'.format(os.path.basename(item[:-20])), mode = 'a', complevel = 9, complib = 'zlib')\n",
    "        samples_orth = pd.DataFrame(scipy.linalg.orth(samples), index = samples.index)\n",
    "        samples_orth.to_hdf(${output[1]!ar}, '/{}'.format(os.path.basename(item[:-20])), mode = 'a', complevel = 9, complib = 'zlib')"
   ]
  }
 ],
 "metadata": {
  "kernelspec": {
   "display_name": "SoS",
   "language": "sos",
   "name": "sos"
  },
  "language_info": {
   "codemirror_mode": "sos",
   "file_extension": ".sos",
   "mimetype": "text/x-sos",
   "name": "sos",
   "nbconvert_exporter": "sos.jupyter.converter.SoS_Exporter",
   "pygments_lexer": "sos"
  },
  "sos": {
   "default_kernel": "SoS",
   "kernels": [
    [
     "Python3",
     "python3",
     "Python3",
     "#FFE771"
    ],
    [
     "R",
     "ir",
     "R",
     "#DCDCDA"
    ],
    [
     "SoS",
     "sos",
     "",
     ""
    ]
   ],
   "panel": {
    "displayed": true,
    "height": 0,
    "style": "side"
   }
  }
 },
 "nbformat": 4,
 "nbformat_minor": 2
}
