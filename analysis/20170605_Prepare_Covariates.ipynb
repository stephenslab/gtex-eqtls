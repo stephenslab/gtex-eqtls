{
 "cells": [
  {
   "cell_type": "markdown",
   "metadata": {},
   "source": [
    "# Association mapping covariates \n",
    "Merge covariates info from multiple sources into analysis-ready file in HDF5 format."
   ]
  },
  {
   "cell_type": "markdown",
   "metadata": {},
   "source": [
    "Covariates for analysis we've got so far include sample phenotypes (sex), sample attributes (genotyping platform), top principle components for population structure, and PEER factors. All saved in various files.\n",
    "\n",
    "Workflow below consolidates these files and generates a **single analysis ready covariate file** in HDF5 format."
   ]
  },
  {
   "cell_type": "code",
   "execution_count": 3,
   "metadata": {
    "kernel": "SoS"
   },
   "outputs": [
    {
     "data": {
      "text/html": [
       "<div class=\"sos_hint\">1 task completed: <a onclick=\"task_info('9b25ffcc3fa94eb0509f9a4d8aa35084', 'localhost')\">9b25</a></div>"
      ]
     },
     "metadata": {},
     "output_type": "display_data"
    },
    {
     "name": "stdout",
     "output_type": "stream",
     "text": [
      "\n"
     ]
    },
    {
     "data": {
      "text/html": [
       "<div class=\"sos_hint\">1 task completed: <a onclick=\"task_info('3497fb265aa5304e8b02b9d39b1548b4', 'localhost')\">3497</a></div>"
      ]
     },
     "metadata": {},
     "output_type": "display_data"
    },
    {
     "name": "stdout",
     "output_type": "stream",
     "text": [
      "\n"
     ]
    }
   ],
   "source": [
    "%run format_covariates\n",
    "\n",
    "parameter: cwd = '~/Documents/GTEx'\n",
    "sample_attr = '~/Documents/GTEx/gtex7/sample_annotations/GTEx_Analysis_2016-01-15_v7_SampleAttributesDS.txt'\n",
    "phenotype = '~/Documents/GTEx/gtex7/sample_annotations/GTEx_Analysis_2016-01-15_v7_SubjectPhenotypesDS.txt'\n",
    "platform_info = \"${cwd!a}/h5_formatted/${sample_attr!bn}.platform_info\"\n",
    "\n",
    "[format_covariates]\n",
    "# Consolidate covariates to HDF5 format\n",
    "# Covariates are: sex, platform, 3 PC and PEER factors\n",
    "depends: platform_info\n",
    "parameter: peer_factors = glob.glob(\"${cwd!a}/peer_analysis/*_PEER_covariates.txt\")\n",
    "parameter: pc_file = \"${cwd!a}/genotype_plink/GTEx7.Imputed.prune.pc.ped\"\n",
    "parameter: covar_file = \"${phenotype!a}\"\n",
    "input: peer_factors, pc_file, covar_file, platform_info\n",
    "output: \"${cwd!a}/h5_formatted/GTEx7.covariates.h5\"\n",
    "task: workdir = cwd\n",
    "python:\n",
    "    import os\n",
    "    import pandas as pd\n",
    "    if os.path.isfile(${output!ar}):\n",
    "       os.remove(${output!ar})\n",
    "    pc = pd.read_csv(${pc_file!r}, header = None, sep = ' ', index_col = 1,\n",
    "         names = ['fid','pid','mid','sex','phen'] + [\"PC{}\".format(i+1) for i in range(20)])[[\"PC1\", \"PC2\", \"PC3\"]]\n",
    "    platform = pd.read_csv(${platform_info!r}, header = 0, sep = ',', index_col = 0)\n",
    "    covar = pd.read_csv(${covar_file!r}, header = 0, sep = '\\t', index_col = 0)['SEX'].to_frame()\n",
    "    dat = covar.merge(platform, left_index = True, right_index = True)\n",
    "    dat = dat.merge(pc, left_index = True, right_index = True)\n",
    "    # Add PEER\n",
    "    for item in [${peer_factors!ar,}]:\n",
    "        peer = pd.read_csv(item, header = 0, sep = '\\t', index_col = 0).transpose()\n",
    "        samples = {}\n",
    "        for x in peer.index:\n",
    "            samples[x] = dat.loc['-'.join(x.split('-')[:2])].tolist()\n",
    "        samples = pd.DataFrame(samples).transpose()\n",
    "        samples.columns = dat.columns\n",
    "        samples = samples.merge(peer, left_index = True, right_index = True)\n",
    "        samples.to_hdf(${output!ar}, '/{}'.format(os.path.basename(item[:-20])), mode = 'a', complevel = 9, complib = 'zlib')\n",
    "\n",
    "[recode_platform: provides = platform_info]\n",
    "# Covariate \"platform\" needs to be recoded to numeric\n",
    "input: sample_attr\n",
    "output: platform_info\n",
    "task: workdir = cwd\n",
    "python:\n",
    "    import pandas as pd\n",
    "    samples = pd.read_csv(${input!r}, dtype=str, delimiter='\\t', header=0)\n",
    "    res = [('SUBJID', 'GENO_PLATFORM')]\n",
    "    platform = []\n",
    "    for row in samples[['SAMPID', 'SMGEBTCHT', 'SMAFRZE']].values:\n",
    "        if row[2] == 'WGS':\n",
    "           row[0] = '-'.join(row[0].split('-')[:2])\n",
    "           if not row[1] in platform:\n",
    "              platform.append(row[1])\n",
    "           res.append((row[0], str(platform.index(row[1]))))\n",
    "    with open(${output!r}, \"w\") as f:\n",
    "        f.write('\\n'.join([','.join(x) for x in res]))"
   ]
  },
  {
   "cell_type": "code",
   "execution_count": 4,
   "metadata": {
    "kernel": "SoS"
   },
   "outputs": [
    {
     "data": {
      "text/html": [
       "<p class=\"session_section\">SoS</p>\n",
       "<table class=\"session_info\">\n",
       "<tr>\n",
       "<th>SoS Version</th><td><pre>0.9.8.10</pre></td>\n",
       "</tr>\n",
       "</table>\n"
      ]
     },
     "metadata": {},
     "output_type": "display_data"
    }
   ],
   "source": [
    "%sessioninfo"
   ]
  }
 ],
 "metadata": {
  "kernelspec": {
   "display_name": "SoS",
   "language": "sos",
   "name": "sos"
  },
  "language_info": {
   "codemirror_mode": "sos",
   "file_extension": ".sos",
   "mimetype": "text/x-sos",
   "name": "sos",
   "nbconvert_exporter": "sos.jupyter.converter.SoS_Exporter",
   "pygments_lexer": "sos"
  },
  "sos": {
   "default_kernel": "SoS",
   "kernels": [
    [
     "Python3",
     "python3",
     "Python3",
     "#FFE771"
    ],
    [
     "R",
     "ir",
     "R",
     "#DCDCDA"
    ],
    [
     "SoS",
     "sos",
     "",
     ""
    ]
   ],
   "panel": {
    "displayed": true,
    "height": 0,
    "style": "side"
   }
  }
 },
 "nbformat": 4,
 "nbformat_minor": 2
}
