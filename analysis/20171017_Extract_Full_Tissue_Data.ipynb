{
 "cells": [
  {
   "cell_type": "markdown",
   "metadata": {},
   "source": [
    "# Extract per-gene per tissue data\n",
    "\n",
    "For fine mapping requested by Matthew for ACTN3 in Muscle. Here is a note."
   ]
  },
  {
   "cell_type": "code",
   "execution_count": null,
   "metadata": {
    "collapsed": true
   },
   "outputs": [],
   "source": [
    "%cd ~/Documents/GTExV8\n",
    "load_data = function(genotype_file, expr_file, cov_file, geno_table, expr_table, cov_table) {\n",
    "        library(rhdf5)\n",
    "        geno = h5read(genotype_file, geno_table)\n",
    "        gdata = data.frame(geno$block0_values)\n",
    "        colnames(gdata) = geno$axis1\n",
    "        rownames(gdata) = geno$axis0\n",
    "        #\n",
    "        expr = h5read(expr_file, expr_table)\n",
    "        edata = data.frame(expr$block0_values)\n",
    "        colnames(edata) = tools::file_path_sans_ext(expr$axis1)\n",
    "        edata = data.frame(edata[, basename(geno_table)])\n",
    "        rownames(edata) = expr$axis0\n",
    "        colnames(edata) = basename(geno_table)\n",
    "        #\n",
    "        covariate <- h5read(cov_file, cov_table)\n",
    "        cdata = data.frame(covariate$block0_values)\n",
    "        colnames(cdata) = covariate$axis1\n",
    "        rownames(cdata) = covariate$axis0\n",
    "        cdata = t(cdata)\n",
    "        # reorder\n",
    "        edata = edata[match(rownames(cdata), rownames(edata)),]\n",
    "        gdata = gdata[rownames(cdata),]\n",
    "        return(list(X = as.matrix(gdata), y = as.vector(edata), Z = as.matrix(cdata)))\n",
    "    }\n",
    "\n",
    "genotype_file = \"GTExV8.genotype.cis.h5\"\n",
    "expr_file = \"GTExV8.expression.h5\"\n",
    "cov_file = \"GTExV8.covariates.h5\"\n",
    "#geno_table = \"/chr11/ENSG00000248746\"\n",
    "#expr_table = \"/Muscle_Skeletal\"\n",
    "#cov_table = \"/Muscle_Skeletal\"\n",
    "#dat = load_data(genotype_file, expr_file, cov_file, geno_table, expr_table, cov_table)\n",
    "#saveRDS(dat, 'Muscle_Skeletal.ACTN3.1Mb.RDS')\n",
    "geno_table = '/chr1/ENSG00000134243'\n",
    "expr_table = \"/Liver\"\n",
    "cov_table = expr_table\n",
    "dat = load_data(genotype_file, expr_file, cov_file, geno_table, expr_table, cov_table)\n",
    "saveRDS(dat, 'Liver.ENSG00000134243.1Mb.RDS')"
   ]
  }
 ],
 "metadata": {
  "kernelspec": {
   "display_name": "SoS",
   "language": "sos",
   "name": "sos"
  },
  "language_info": {
   "codemirror_mode": "sos",
   "file_extension": ".sos",
   "mimetype": "text/x-sos",
   "name": "sos",
   "nbconvert_exporter": "sos_notebook.converter.SoS_Exporter",
   "pygments_lexer": "sos"
  },
  "sos": {
   "default_kernel": "R",
   "kernels": [
    [
     "Python3",
     "python3",
     "Python3",
     "#FFE771"
    ],
    [
     "R",
     "ir",
     "R",
     "#DCDCDA"
    ],
    [
     "SoS",
     "sos",
     "",
     ""
    ]
   ],
   "panel": {
    "displayed": true,
    "height": 0,
    "style": "side"
   }
  }
 },
 "nbformat": 4,
 "nbformat_minor": 2
}
