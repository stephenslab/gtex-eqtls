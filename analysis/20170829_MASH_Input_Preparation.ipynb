{
 "cells": [
  {
   "cell_type": "markdown",
   "metadata": {},
   "source": [
    "# Preparing input data for MASH analysis\n",
    "This include input max Z score from univariate analysis and training data, for both before and after LD pruning."
   ]
  },
  {
   "cell_type": "markdown",
   "metadata": {},
   "source": [
    "This is in part responding the reviewer's request that we should use independent subset of SNPs to fit mash model and analyze, and compare with results ignoring the LD (as done in Urbut 2017). \n",
    "\n",
    "## Obtain data\n",
    "\n",
    "The required data has [previously been extracted](https://github.com/stephenslab/gtex-eqtls/blob/v6-archive/archive/src/python/analysis_admin.py#L318) from GTEx V6 stored in midway:\n",
    "\n",
    "```\n",
    "/project/mstephens/data/internal_supp/gtex-v6-sumstat-hdf5/MatrixEQTLSumStats.Portable.h5\n",
    "```\n",
    "It's a 58MB file containing only `max` and `null` summary statistics. For convenience I copy it to my local computer and process from there (see cell below)."
   ]
  },
  {
   "cell_type": "code",
   "execution_count": 1,
   "metadata": {
    "collapsed": true,
    "kernel": "SoS"
   },
   "outputs": [],
   "source": [
    "[global]\n",
    "cwd = '~/Documents/GTEx/mash_revision'\n",
    "input_db = \"${cwd!a}/MatrixEQTLSumStats.Portable.h5\""
   ]
  },
  {
   "cell_type": "code",
   "execution_count": 2,
   "metadata": {
    "kernel": "SoS"
   },
   "outputs": [
    {
     "data": {
      "text/html": [
       "<div class=\"sos_hint\">1 task completed: <a onclick=\"task_info('caf98d1091c1a4cf891b9e67d5d2f215', 'localhost')\">caf9</a></div>"
      ]
     },
     "metadata": {},
     "output_type": "display_data"
    },
    {
     "name": "stdout",
     "output_type": "stream",
     "text": [
      "\n"
     ]
    }
   ],
   "source": [
    "%sosrun get_input\n",
    "[get_input: provides = input_db]\n",
    "output: input_db\n",
    "task:\n",
    "run:\n",
    "    rsync -auzP mw:/project/mstephens/data/internal_supp/gtex-v6-sumstat-hdf5/MatrixEQTLSumStats.Portable.h5 ${input_db}"
   ]
  },
  {
   "cell_type": "markdown",
   "metadata": {},
   "source": [
    "## Extract training and testing data\n",
    "The cell below loads the data, compute z-score, get a training set (and its correlation estimate $\\hat{V}$) and save to an RDS file for use with `mash` analysis. Parameter `snp_list` specifies path to the file of rownames to keep while extracting: by default it uses all SNPs but if a list is provided (eg list after LD pruning) it will only extract results for those SNPs."
   ]
  },
  {
   "cell_type": "code",
   "execution_count": 3,
   "metadata": {
    "kernel": "SoS"
   },
   "outputs": [],
   "source": [
    "%sosrun extract_zscore\n",
    "[extract_zscore]\n",
    "parameter: snp_list = 'NULL'\n",
    "parameter: num_train = 20000\n",
    "depends: R_library(\"rhdf5\")\n",
    "input: input_db\n",
    "output: \"${input_db!n}.Z.rds\"\n",
    "task: workdir = cwd\n",
    "R:\n",
    "    ConvertP2Z <- function(pval, beta) {\n",
    "      z <- abs(qnorm(pval / 2))\n",
    "      z[which(beta < 0)] <- -1 * z[which(beta < 0)]\n",
    "      return(z)\n",
    "    }\n",
    "\n",
    "    GetSS <- function(gene, db) {\n",
    "      dat <- rhdf5::h5read(db, gene)\n",
    "      dat$\"z-score\" <- ConvertP2Z(dat$\"p-value\", dat$\"beta\")\n",
    "      for (name in c(\"beta\", \"t-stat\", \"p-value\", \"z-score\")) {\n",
    "        dat[[name]] <- t(dat[[name]])\n",
    "        colnames(dat[[name]]) <- dat$colnames\n",
    "        rownames(dat[[name]]) <- dat$rownames\n",
    "      }\n",
    "      dat$colnames <- dat$rownames <- NULL\n",
    "      return(dat)\n",
    "    }\n",
    "    # load data\n",
    "    mdat = GetSS('max', ${input!r})\n",
    "    ndat = GetSS('null', ${input!r})\n",
    "    # select rows to keep\n",
    "    if (${snp_list!r} != \"NULL\") {\n",
    "        # FIXME: will subset mdat and ndat here\n",
    "        x = 1\n",
    "    }\n",
    "    num_train = ${num_train}\n",
    "    if (num_train >= nrow(ndat$z)) {\n",
    "        num_train = floor(nrow(ndat$z) / 2)\n",
    "    }\n",
    "    # get vhat (SVS)\n",
    "    max_absz = apply(abs(ndat$z),1, max)\n",
    "    nullish = which(max_absz < 2)\n",
    "    nz = ndat$z[nullish,]\n",
    "    vhat = cor(nz)\n",
    "    # save output\n",
    "    saveRDS(list(train.z = ndat$z[1:num_train,],\n",
    "                 validate.z = ndat$z[(num_train+1):nrow(ndat$z),],\n",
    "                 test.z = mdat$z, vhat = vhat), ${output!r})"
   ]
  },
  {
   "cell_type": "code",
   "execution_count": 8,
   "metadata": {
    "kernel": "SoS",
    "tags": [
     "report_output"
    ]
   },
   "outputs": [
    {
     "name": "stdout",
     "output_type": "stream",
     "text": [
      "List of 4\n",
      " $ train.z   : num [1:20000, 1:44] -0.184 0.161 -1.291 -1.628 0.778 ...\n",
      "  ..- attr(*, \"dimnames\")=List of 2\n",
      "  .. ..$ : chr [1:20000] \"ENSG00000000419.8_20_49782767_C_G_b37\" \"ENSG00000000419.8_20_49654572_A_G_b37\" \"ENSG00000000419.8_20_49392478_A_G_b37\" \"ENSG00000000457.9_1_169117725_TG_T_b37\" ...\n",
      "  .. ..$ : chr [1:44] \"Adipose_Subcutaneous\" \"Adipose_Visceral_Omentum\" \"Adrenal_Gland\" \"Artery_Aorta\" ...\n",
      " $ validate.z: num [1:28198, 1:44] 0.107 1.1672 0.2172 0.3499 -0.0481 ...\n",
      "  ..- attr(*, \"dimnames\")=List of 2\n",
      "  .. ..$ : chr [1:28198] \"ENSG00000151665.8_2_47601407_A_G_b37\" \"ENSG00000151687.10_2_190118691_T_G_b37\" \"ENSG00000151687.10_2_191462133_C_T_b37\" \"ENSG00000151687.10_2_190620957_G_A_b37\" ...\n",
      "  .. ..$ : chr [1:44] \"Adipose_Subcutaneous\" \"Adipose_Visceral_Omentum\" \"Adrenal_Gland\" \"Artery_Aorta\" ...\n",
      " $ test.z    : num [1:16069, 1:44] 0.14 0.955 0.32 1.844 -4.235 ...\n",
      "  ..- attr(*, \"dimnames\")=List of 2\n",
      "  .. ..$ : chr [1:16069(1d)] \"ENSG00000000419.8_20_49461813_G_C_b37\" \"ENSG00000000457.9_1_169695110_T_A_b37\" \"ENSG00000000460.12_1_169655079_G_A_b37\" \"ENSG00000000938.8_1_27888990_T_C_b37\" ...\n",
      "  .. ..$ : chr [1:44(1d)] \"Adipose_Subcutaneous\" \"Adipose_Visceral_Omentum\" \"Adrenal_Gland\" \"Artery_Aorta\" ...\n",
      " $ vhat      : num [1:44, 1:44] 1 0.0674 0.0142 0.0686 0.03 ...\n",
      "  ..- attr(*, \"dimnames\")=List of 2\n",
      "  .. ..$ : chr [1:44] \"Adipose_Subcutaneous\" \"Adipose_Visceral_Omentum\" \"Adrenal_Gland\" \"Artery_Aorta\" ...\n",
      "  .. ..$ : chr [1:44] \"Adipose_Subcutaneous\" \"Adipose_Visceral_Omentum\" \"Adrenal_Gland\" \"Artery_Aorta\" ...\n"
     ]
    }
   ],
   "source": [
    "R:\n",
    "    dat = readRDS(\"${input_db!n}.Z.rds\")\n",
    "    str(dat)"
   ]
  }
 ],
 "metadata": {
  "celltoolbar": "Tags",
  "kernelspec": {
   "display_name": "SoS",
   "language": "sos",
   "name": "sos"
  },
  "language_info": {
   "codemirror_mode": "sos",
   "file_extension": ".sos",
   "mimetype": "text/x-sos",
   "name": "sos",
   "nbconvert_exporter": "sos.jupyter.converter.SoS_Exporter",
   "pygments_lexer": "sos"
  },
  "sos": {
   "default_kernel": "SoS",
   "kernels": [
    [
     "SoS",
     "sos",
     "",
     ""
    ],
    [
     "Python3",
     "python3",
     "Python3",
     "#FFE771"
    ],
    [
     "R",
     "ir",
     "R",
     "#DCDCDA"
    ]
   ],
   "panel": {
    "displayed": true,
    "height": 0,
    "style": "side"
   }
  }
 },
 "nbformat": 4,
 "nbformat_minor": 2
}
