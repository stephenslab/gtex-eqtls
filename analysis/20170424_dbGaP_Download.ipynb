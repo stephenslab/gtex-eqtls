{
 "cells": [
  {
   "cell_type": "markdown",
   "metadata": {},
   "source": [
    "# Download data from dbGaP\n",
    "A brief documentation to how dbGaP website is accessed & how to download data."
   ]
  },
  {
   "cell_type": "markdown",
   "metadata": {},
   "source": [
    "## dbGaP access\n",
    "Visit [dbGaP](https://www.ncbi.nlm.nih.gov/gap), click on `Controlled Access Data`, then login with your eRA Commons account. You'll see the dataset previously applied for and approved under the tab `Authorized Access -> My Requests`. In the column `Actions` click `Request Files` for the dataset you want to download, then click / select data file names. After all is done, create the data request and wait for an email.\n",
    "\n",
    "### GTEx data\n",
    "In my case, I'd use the Request for `Exchange Area` data, and go to `Provisional files`. Currently version 7 (V7) is more or less ready for analysis (QC completed). The manifest of dataset I requested can be [found here](https://github.com/stephenslab/gtex-eqtls/tree/master/data/confidential)."
   ]
  },
  {
   "cell_type": "markdown",
   "metadata": {
    "collapsed": true
   },
   "source": [
    "## Download dbGaP data\n",
    "Email received from dbGaP should contain a link to download instruction page. It requires `ascp` command tool to download and `sra toolkit` to decode the data."
   ]
  }
 ],
 "metadata": {
  "kernelspec": {
   "display_name": "SoS",
   "language": "sos",
   "name": "sos"
  },
  "language_info": {
   "codemirror_mode": "sos",
   "file_extension": ".sos",
   "mimetype": "text/x-sos",
   "name": "sos",
   "nbconvert_exporter": "sos.jupyter.converter.SoS_Exporter",
   "pygments_lexer": "sos"
  },
  "sos": {
   "default_kernel": "SoS",
   "kernels": [
    [
     "Python3",
     "python3",
     "Python3",
     "#FFE771"
    ],
    [
     "R",
     "ir",
     "R",
     "#DCDCDA"
    ],
    [
     "SoS",
     "sos",
     "",
     ""
    ]
   ],
   "panel": {
    "displayed": true,
    "height": 0,
    "style": "side"
   }
  }
 },
 "nbformat": 4,
 "nbformat_minor": 2
}
