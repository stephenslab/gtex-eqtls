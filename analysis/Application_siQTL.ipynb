{
 "cells": [
  {
   "cell_type": "markdown",
   "metadata": {
    "kernel": "SoS"
   },
   "source": [
    "# Investigating MASH in sparse signal setting"
   ]
  },
  {
   "cell_type": "markdown",
   "metadata": {
    "kernel": "SoS"
   },
   "source": [
    "Analysis of sex-interacting QTL data. See [this ticket](https://github.com/gaow/mnm-gtex-v8/issues/4) for a motivation."
   ]
  },
  {
   "cell_type": "markdown",
   "metadata": {
    "kernel": "SoS"
   },
   "source": [
    "## Plans\n",
    "\n",
    "For our ~50 conditions problem (GTEx V8) the sex specific QTL analysis,\n",
    "\n",
    "1. Use FLASH to access pattern of sharing.\n",
    "2. Run MASH without data driven covariance, and see if weights are still on the shared canonical component. Make a plot similar [to here](https://stephenslab.github.io/gtexresults/Uk3.html).\n",
    "3. Even simpler than above, run mash just on the \"equal effects\" covariance, nothing else. This will effectively do a fixed effects analysis combining across 44 tissues, and give some baseline against which other results can be compared.\n",
    "4. Splitting the tissues into 2 sets of ~25. Run mash as in 2 above. See how often the effects that are deemed significant by mash have the same sign of average effect in the other set of ~25 conditions. If mash is doing something sensible then it should be much more often than the 50% expected by chance in a no-signal dataset.\n",
    "5. As a sanity check, run MASH with just the \"identity\" covariance. This assumes no sharing between tissues. The association signal should not have been boosted."
   ]
  },
  {
   "cell_type": "markdown",
   "metadata": {
    "kernel": "SoS"
   },
   "source": [
    "## Implementation\n",
    "\n",
    "Plans above are implemented in the following commands:\n",
    "\n",
    "```\n",
    "# Full data analysis\n",
    "sos run analysis/Application_siQTL.ipynb flash\n",
    "sos run analysis/Application_siQTL.ipynb mash\n",
    "sos run analysis/Application_siQTL.ipynb mash_eq\n",
    "sos run analysis/Application_siQTL.ipynb mash_uv\n",
    "# First 1/2 data\n",
    "sos run analysis/Application_siQTL.ipynb mash --start 1 --end 22\n",
    "sos run analysis/Application_siQTL.ipynb mash_eq --start 1 --end 22\n",
    "# Second 1/2 data\n",
    "sos run analysis/Application_siQTL.ipynb mash --start 23 --end 44\n",
    "sos run analysis/Application_siQTL.ipynb mash_eq --start 23 --end 44\n",
    "```"
   ]
  },
  {
   "cell_type": "markdown",
   "metadata": {
    "kernel": "SoS"
   },
   "source": [
    "## Results\n",
    "\n",
    "Results & intermediate files [can be downloaded here](http://shiny.stephenslab.uchicago.edu/gaow/sk_nygc/20181011_mash.tar.gz).\n",
    "\n",
    "It contains quite a few files from commands above (analysis below). Of interest are:\n",
    "\n",
    "1. `*.flash.model.pdf` file, demonstrating the pattern of effect sharing using a sparse matrix factorization.\n",
    "2. `*.summary.rds` and `*.summary.pdf`:\n",
    "  1. `start_1_end_44` is analysis of full data. \n",
    "  2. `start_1_end_22` and `start_23_end_44` are halves of data. \n",
    "\n",
    "### Remark 1\n",
    "\n",
    "As motivated above, it would be of interest to see if the estimated significant results are mostly consistent in sign in the two halves of data. If so, then MASH is doing something reasonable. I have generated the results but did not check and plot this particular investigation. To do so, simply load `*mahsed_equal_eff.summary.rds` file and look at `significant_beta_est`, and compare that across results.\n",
    "\n",
    "### Remark 2\n",
    "\n",
    "Univariate adaptive shrinkage analysis (setting MASH covariance to identity) in fact shrunk every effect to zero, indicating no significant effects at all when conditions are not analyzed jointly. This is consistent with the univariate analysis results. See `*mahsed_independent.summary.rds`.\n",
    "\n",
    "The rest of this notebook contain the code for the analysis -- a source to look things up just in case some quantities in those `rds` files are not self-explanary."
   ]
  },
  {
   "cell_type": "code",
   "execution_count": null,
   "metadata": {
    "kernel": "SoS"
   },
   "outputs": [],
   "source": [
    "[global]\n",
    "parameter: prefix=  \"sbeQTL\"\n",
    "parameter: cwd = path('data/mash_out')\n",
    "parameter: b_strong = path(\"data/Mashr_all.tissues_sbeQTL_all.genes.TopSNPbyZ_beta.txt.gz\")\n",
    "parameter: s_strong = path(\"data/Mashr_all.tissues_sbeQTL_all.genes.TopSNPbyZ_se.txt.gz\")\n",
    "parameter: b_random = path(\"data/Mashr_all.tissues_sbeQTL_all.genes.rand.200K_1_beta.txt.gz\")\n",
    "parameter: s_random = path(\"data/Mashr_all.tissues_sbeQTL_all.genes.rand.200K_1_se.txt.gz\")\n",
    "parameter: color_file = path(\"src/gtex_colors.txt\")\n",
    "# EZ or EE model; default to EZ\n",
    "parameter: alpha = 1\n",
    "# Subset tissue option: start index\n",
    "parameter: start = 1\n",
    "# Subset tissue option: end index\n",
    "parameter: end = 44"
   ]
  },
  {
   "cell_type": "code",
   "execution_count": 1,
   "metadata": {
    "kernel": "SoS"
   },
   "outputs": [],
   "source": [
    "# Load data\n",
    "[mash_1, flash_1, mash_eq_1, mash_uv_1]\n",
    "input: b_strong, s_strong, b_random, s_random, color_file\n",
    "output: f\"{cwd:a}/{prefix}.alpha_{alpha}_start_{start}_end_{end}.rds\"\n",
    "R: expand = '${ }'\n",
    "    library(mashr)\n",
    "    ## read & sample data\n",
    "    beta.n=as.matrix(read.table(${b_random:ar}, head=T, as.is=T, row.names=1))\n",
    "    se.n=as.matrix(read.table(${s_random:ar}, head=T, as.is=T, row.names=1))\n",
    "    beta.s=as.matrix(read.table(${b_strong:ar}, head=T, as.is=T, row.names=1))\n",
    "    se.s=as.matrix(read.table(${s_strong:ar}, head=T, as.is=T, row.names=1))\n",
    "    set.seed(1)\n",
    "    cols = sample(1:ncol(beta.n))[${start}:${end}]\n",
    "    beta.n = beta.n[, sort(colnames(beta.n)[cols])]\n",
    "    se.n = se.n[, sort(colnames(se.n)[cols])]\n",
    "    beta.s = beta.s[, sort(colnames(beta.s)[cols])]\n",
    "    se.s = se.s[, sort(colnames(se.s)[cols])]\n",
    "    ## estimate null correlation\n",
    "    Vhat = estimate_null_correlation(mash_set_data(beta.n, se.n, alpha=${alpha}), apply_lower_bound = FALSE)\n",
    "    ## make mash files\n",
    "    data.random = mash_set_data(beta.n, se.n, V=Vhat, alpha=1)\n",
    "    data.strong = mash_set_data(beta.s, se.s, V=Vhat, alpha=1)\n",
    "    ## get GTEx colors\n",
    "    get_colors = function(color_file, names) {\n",
    "        gtex.colors = read.table(color_file, head=T, sep = '\\t', comment.char = '')\n",
    "        gtex.colors$tissue_id = paste0('beta_',gtex.colors$tissue_id)\n",
    "        gtex.colors$tissue_id[which(gtex.colors$tissue_id == 'beta_Brain_Spinal_cord_cervical_c-1')] = 'beta_Brain_Spinal_cord_cervical_c.1'\n",
    "        colors.index = match(names, gtex.colors$tissue_id)\n",
    "        colors = as.character(gtex.colors$color_hex[colors.index])\n",
    "        colors[which(is.na(colors))] = '000000'\n",
    "        colors = paste0('#',colors)\n",
    "        return(colors)\n",
    "    }\n",
    "    colors = get_colors(${color_file:r}, colnames(beta.s))\n",
    "    saveRDS(list(data.random=data.random,data.strong=data.strong, colors=colors), ${_output:r})"
   ]
  },
  {
   "cell_type": "markdown",
   "metadata": {
    "kernel": "SoS"
   },
   "source": [
    "## Assess patterns of sharing\n",
    "\n",
    "Using a sparse factor analysis called \"FLASH\", applied to top QTLs."
   ]
  },
  {
   "cell_type": "code",
   "execution_count": null,
   "metadata": {
    "kernel": "SoS"
   },
   "outputs": [],
   "source": [
    "# Sparse factor analysis with adaptive shrinkage\n",
    "[flash_2]\n",
    "output: f\"{_input:n}.flash.model.rds\"\n",
    "R: expand = '${ }', stderr = f'{_output:n}.stderr', stdout = f'{_output:n}.stdout'\n",
    "    library(flashr)\n",
    "    library(mixSQP)\n",
    "    library(mashr)\n",
    "    \n",
    "    my_init_fn <- function(Y, K = 1) {\n",
    "      ret = flashr:::udv_si(Y, K)\n",
    "      pos_sum = sum(ret$v[ret$v > 0])\n",
    "      neg_sum = -sum(ret$v[ret$v < 0])\n",
    "      if (neg_sum > pos_sum) {\n",
    "        return(list(u = -ret$u, d = ret$d, v = -ret$v))\n",
    "      } else\n",
    "      return(ret)\n",
    "    }\n",
    "\n",
    "    flash_pipeline = function(data, ...) {\n",
    "      ## current state-of-the art\n",
    "      ## suggested by Jason Willwerscheid\n",
    "      ## cf: discussion section of\n",
    "      ## https://willwerscheid.github.io/MASHvFLASH/MASHvFLASHnn2.html\n",
    "      ebnm_fn = \"ebnm_ash\"\n",
    "      ebnm_param = list(l = list(mixcompdist = \"normal\",\n",
    "                               optmethod = \"mixSQP\"),\n",
    "                        f = list(mixcompdist = \"+uniform\",\n",
    "                               optmethod = \"mixSQP\"))\n",
    "      ##\n",
    "      fl_g <- flashr:::flash_greedy_workhorse(data,\n",
    "                    var_type = \"constant\",\n",
    "                    ebnm_fn = ebnm_fn,\n",
    "                    ebnm_param = ebnm_param,\n",
    "                    init_fn = \"my_init_fn\",\n",
    "                    stopping_rule = \"factors\",\n",
    "                    tol = 1e-3,\n",
    "                    verbose_output = \"odF\")\n",
    "      fl_b <- flashr:::flash_backfit_workhorse(data,\n",
    "                    f_init = fl_g,\n",
    "                    var_type = \"constant\",\n",
    "                    ebnm_fn = ebnm_fn,\n",
    "                    ebnm_param = ebnm_param,\n",
    "                    stopping_rule = \"factors\",\n",
    "                    tol = 1e-3,\n",
    "                    verbose_output = \"odF\")\n",
    "      return(fl_b)\n",
    "    }\n",
    "\n",
    "    cov_flash = function(data, subset = NULL, non_canonical = FALSE, save_model = NULL) {\n",
    "      if(is.null(subset)) subset = 1:mashr:::n_effects(data)\n",
    "      b.center = apply(data$Bhat, 2, function(x) x - mean(x))\n",
    "      ## Only keep factors with at least two values greater than 1 / sqrt(n)\n",
    "      find_nonunique_effects <- function(fl) {\n",
    "        thresh <- 1/sqrt(ncol(fl$fitted_values))\n",
    "        vals_above_avg <- colSums(fl$ldf$f > thresh)\n",
    "        nonuniq_effects <- which(vals_above_avg > 1)\n",
    "        return(fl$ldf$f[, nonuniq_effects, drop = FALSE])\n",
    "      }\n",
    "\n",
    "      fmodel = flash_pipeline(b.center)\n",
    "      if (non_canonical)\n",
    "          flash_f = find_nonunique_effects(fmodel)\n",
    "      else \n",
    "          flash_f = fmodel$ldf$f\n",
    "      ## row.names(flash_f) = colnames(b)\n",
    "      if (!is.null(save_model)) saveRDS(list(model=fmodel, factors=flash_f), save_model)\n",
    "      U.flash = c(cov_from_factors(t(as.matrix(flash_f)), \"FLASH\"),\n",
    "          list(\"tFLASH\" = t(fmodel$fitted_values) %*% fmodel$fitted_values / nrow(fmodel$fitted_values)))\n",
    "      return(U.flash)\n",
    "    }\n",
    "    ##\n",
    "    attach(readRDS(${_input:r}))\n",
    "    res = cov_flash(data.strong, non_canonical = FALSE, save_model = ${_output:r})\n",
    "    saveRDS(res, \"${_output:nn}.cov.rds\")"
   ]
  },
  {
   "cell_type": "code",
   "execution_count": null,
   "metadata": {
    "kernel": "SoS"
   },
   "outputs": [],
   "source": [
    "# Make plot of factor analysis result\n",
    "[flash_3]\n",
    "output: f\"{_input:n}.pdf\"\n",
    "R: expand = \"${ }\"\n",
    "    model = readRDS(${_input:r})$model\n",
    "    ldf = model$ldf\n",
    "    pve = model$pve\n",
    "    colors = readRDS(\"${_input:nnn}.rds\")$colors\n",
    "    options(repr.plot.width=12, repr.plot.height=5)\n",
    "    pdf(${_output:r})\n",
    "    for (i in 1:ncol(ldf$f)) {\n",
    "        par(mar=c(10,1,1,1))\n",
    "        barplot(ldf$f[,i], col=colors, names.arg=rownames(ldf$f), axes=F, main = paste(\"Factor\", i, \"PVE\", round(pve[i], 3)), las = 2, cex.names = 0.6)\n",
    "    }\n",
    "    dev.off()"
   ]
  },
  {
   "cell_type": "markdown",
   "metadata": {
    "kernel": "SoS"
   },
   "source": [
    "## Run MASH on all canonical covariance"
   ]
  },
  {
   "cell_type": "code",
   "execution_count": 1,
   "metadata": {
    "kernel": "SoS"
   },
   "outputs": [],
   "source": [
    "[mash_2]\n",
    "output: f\"{_input:n}.mashed.rds\"\n",
    "R: expand = '${ }'\n",
    "    library(mashr)\n",
    "    attach(readRDS(${_input:r}))\n",
    "    ## get covariances\n",
    "    U.c = cov_canonical(data.random)\n",
    "    ## fit mash\n",
    "    model = mash(data.random, Ulist = U.c, outputlevel = 1)\n",
    "    result = mash(data.strong, g=get_fitted_g(model), fixg=TRUE)\n",
    "    saveRDS(result, ${_output:r})"
   ]
  },
  {
   "cell_type": "markdown",
   "metadata": {
    "kernel": "SoS"
   },
   "source": [
    "## Run MASH on \"equal effect\" covariance"
   ]
  },
  {
   "cell_type": "code",
   "execution_count": null,
   "metadata": {
    "kernel": "SoS"
   },
   "outputs": [],
   "source": [
    "[mash_eq_2]\n",
    "output: f\"{_input:n}.mashed_equal_eff.rds\"\n",
    "R: expand = '${ }'\n",
    "    library(mashr)\n",
    "    attach(readRDS(${_input:r}))\n",
    "    ## get covariances\n",
    "    U.c = cov_canonical(data.random, cov_methods= 'equal_effects')\n",
    "    ## fit mash\n",
    "    model = mash(data.random, Ulist = U.c, outputlevel = 1)\n",
    "    result = mash(data.strong, g=get_fitted_g(model), fixg=TRUE)\n",
    "    saveRDS(result, ${_output:r})"
   ]
  },
  {
   "cell_type": "markdown",
   "metadata": {
    "kernel": "SoS"
   },
   "source": [
    "## Run MASH on identity covariance\n",
    "\n",
    "Assuming no sharing."
   ]
  },
  {
   "cell_type": "code",
   "execution_count": null,
   "metadata": {
    "kernel": "SoS"
   },
   "outputs": [],
   "source": [
    "[mash_uv_2]\n",
    "output: f\"{_input:n}.mashed_independent.rds\"\n",
    "R: expand = '${ }'\n",
    "    library(mashr)\n",
    "    attach(readRDS(${_input:r}))\n",
    "    ## get covariances\n",
    "    U.c = cov_canonical(data.random, cov_methods= 'identity')\n",
    "    ## fit mash\n",
    "    model = mash(data.random, Ulist = U.c, outputlevel = 1)\n",
    "    result = mash(data.strong, g=get_fitted_g(model), fixg=TRUE)\n",
    "    saveRDS(result, ${_output:r})"
   ]
  },
  {
   "cell_type": "markdown",
   "metadata": {
    "kernel": "SoS"
   },
   "source": [
    "## Results summary"
   ]
  },
  {
   "cell_type": "code",
   "execution_count": null,
   "metadata": {
    "kernel": "SoS"
   },
   "outputs": [],
   "source": [
    "[mash_3, mash_eq_3, mash_uv_3]\n",
    "output: f\"{_input:n}.summary.rds\"\n",
    "R: expand = '${ }'\n",
    "    library(mashr)\n",
    "    res = readRDS(${_input:r})\n",
    "    sig_res = get_significant_results(res)\n",
    "    sig_eff = res$result$PosteriorMean[sig_res,]\n",
    "    pi_hat = get_estimated_pi(res)\n",
    "    sharing = get_pairwise_sharing(res)\n",
    "    colnames(sharing) = colnames(res$result$PosteriorMean)\n",
    "    n_sig_conditions = get_n_significant_conditions(res)[sig_res]\n",
    "    saveRDS(list(significant_beta_est = sig_eff, pi_hat = pi_hat, pairwise_sharing = sharing, num_sig_conditions = n_sig_conditions), ${_output:r})"
   ]
  },
  {
   "cell_type": "code",
   "execution_count": null,
   "metadata": {
    "kernel": "SoS"
   },
   "outputs": [],
   "source": [
    "[mash_4, mash_eq_4, mash_uv_4]\n",
    "output: f\"{_input:n}.pdf\"\n",
    "R: expand = '${ }'\n",
    "    library(lattice)\n",
    "    attach(readRDS(${_input:r}))\n",
    "    pdf(${_output:r})\n",
    "    par(mar=c(10,1,1,1))\n",
    "    barplot(pi_hat, axes=F, las = 2, cex.names = 0.6, main = 'MASH estimated weights')\n",
    "    par(mar=c(1,1,1,1))\n",
    "    clrs = colorRampPalette(rev(c(\"#D73027\",\"#FC8D59\",\"#FEE090\",\"#FFFFBF\",\n",
    "                               \"#E0F3F8\",\"#91BFDB\",\"#4575B4\")))(64)\n",
    "    pairwise_sharing[which(is.na(pairwise_sharing))] = 0\n",
    "    pairwise_sharing[upper.tri(pairwise_sharing)] = NA\n",
    "    levelplot(pairwise_sharing[nrow(pairwise_sharing):1,ncol(pairwise_sharing):1],col.regions = clrs,xlab = \"\",ylab = \"\", colorkey = TRUE, main = 'Sharing by magnitude')\n",
    "    if (length(num_sig_conditions) > 0)\n",
    "        histogram(num_sig_conditions, main = 'Number of significant conditions for significant variables')\n",
    "    dev.off()"
   ]
  }
 ],
 "metadata": {
  "kernelspec": {
   "display_name": "SoS",
   "language": "sos",
   "name": "sos"
  },
  "language_info": {
   "codemirror_mode": "sos",
   "file_extension": ".sos",
   "mimetype": "text/x-sos",
   "name": "sos",
   "nbconvert_exporter": "sos_notebook.converter.SoS_Exporter",
   "pygments_lexer": "sos"
  },
  "sos": {
   "kernels": [
    [
     "R",
     "ir",
     "R",
     "#DCDCDA"
    ],
    [
     "SoS",
     "sos",
     "",
     ""
    ]
   ],
   "version": "0.20.5"
  }
 },
 "nbformat": 4,
 "nbformat_minor": 4
}
