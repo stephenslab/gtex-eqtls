{
 "cells": [
  {
   "cell_type": "markdown",
   "metadata": {},
   "source": [
    "# Summary of single tissue analysis results\n",
    "From > 25K RDS files"
   ]
  },
  {
   "cell_type": "markdown",
   "metadata": {},
   "source": [
    "Currently all results are stored in RDS format per gene per tissue, containing all relevant data in the `mr-ash` model fit. We need to extract relevant information from them.\n"
   ]
  },
  {
   "cell_type": "markdown",
   "metadata": {},
   "source": [
    "## Number of eQTLs per gene"
   ]
  },
  {
   "cell_type": "code",
   "execution_count": null,
   "metadata": {
    "kernel": "R"
   },
   "outputs": [],
   "source": [
    "files = Sys.glob(\"*.rds\")\n",
    "sample.files = files#[1:10000]\n",
    "num.eqtls = vector()\n",
    "for (i in 1:length(sample.files)) {\n",
    "    num.eqtls[i] = sum(readRDS(sample.files[i])$mr_ash$fit$lfsr < 0.05)\n",
    "}\n",
    "stem(num.eqtls, width = 0)"
   ]
  },
  {
   "cell_type": "markdown",
   "metadata": {},
   "source": [
    "```\n",
    "\n",
    "> stem(num.eqtls, width = 0)\n",
    "\n",
    "  The decimal point is at the |\n",
    "\n",
    "   0 | +17248\n",
    "   1 | +5003\n",
    "   2 | +1840\n",
    "   3 | +625\n",
    "   4 | +203\n",
    "   5 | +90\n",
    "   6 | +43\n",
    "   7 | +23\n",
    "   8 | +10\n",
    "   9 | +4\n",
    "  10 | +4\n",
    "  11 | +3\n",
    "  12 | +2\n",
    "  13 | \n",
    "  14 | +3\n",
    "\n",
    "> length(num.eqtls)\n",
    "[1] 25101\n",
    "```"
   ]
  },
  {
   "cell_type": "markdown",
   "metadata": {},
   "source": [
    "In sum, `mr-ash` has detected at least one eQTL in 31.28% genes. Of these genes, 63.7% has one eQTL, 23.4% has 2 eQTL and 12.9% has 3 or more."
   ]
  }
 ],
 "metadata": {
  "kernelspec": {
   "display_name": "SoS",
   "language": "sos",
   "name": "sos"
  },
  "language_info": {
   "codemirror_mode": "sos",
   "file_extension": ".sos",
   "mimetype": "text/x-sos",
   "name": "sos",
   "nbconvert_exporter": "sos_notebook.converter.SoS_Exporter",
   "pygments_lexer": "sos"
  },
  "sos": {
   "default_kernel": "SoS",
   "kernels": [
    [
     "Python3",
     "python3",
     "Python3",
     "#FFE771"
    ],
    [
     "R",
     "ir",
     "R",
     "#DCDCDA"
    ],
    [
     "SoS",
     "sos",
     "",
     ""
    ]
   ],
   "panel": {
    "displayed": true,
    "height": 0,
    "style": "side"
   }
  }
 },
 "nbformat": 4,
 "nbformat_minor": 2
}
