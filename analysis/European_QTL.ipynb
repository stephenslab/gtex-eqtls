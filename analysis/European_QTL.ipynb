{
 "cells": [
  {
   "cell_type": "markdown",
   "metadata": {
    "kernel": "SoS"
   },
   "source": [
    "# QTL analysis using European only data"
   ]
  },
  {
   "cell_type": "markdown",
   "metadata": {
    "kernel": "SoS"
   },
   "source": [
    "In this notebook I document procedures analyzing eQTL and sQTL with MASH, using European only data from GTEx."
   ]
  },
  {
   "cell_type": "markdown",
   "metadata": {
    "kernel": "SoS"
   },
   "source": [
    "## Input data \n",
    "\n",
    "Summary statistics for EUR only eQTL and sQTL, from `fastqtl` analysis."
   ]
  },
  {
   "cell_type": "markdown",
   "metadata": {
    "kernel": "SoS"
   },
   "source": [
    "## Data format conversion for MASH input"
   ]
  },
  {
   "cell_type": "markdown",
   "metadata": {
    "kernel": "SoS"
   },
   "source": [
    "First I obtain a list of available genes and available summary stats data,"
   ]
  },
  {
   "cell_type": "code",
   "execution_count": 1,
   "metadata": {
    "kernel": "SoS"
   },
   "outputs": [],
   "source": [
    "[global]\n",
    "from glob import glob\n",
    "parameter: ss_dir = path('/project2/mstephens/gaow/gtex_v8_eqtl_eur_only')\n",
    "parameter: out_dir = path(f\"{str(ss_dir).rstrip('/')}_output\")\n",
    "data_files = glob(f'{ss_dir:a}/*')\n",
    "\n",
    "[get_meta_1]\n",
    "with open(f\"{out_dir:a}/{ss_dir:b}.sumstats_list\", 'w') as f:\n",
    "    f.write('\\n'.join(data_files))\n",
    "\n",
    "[get_meta_2]\n",
    "input: data_files, group_by = 1, concurrent = True\n",
    "output: f\"{out_dir:a}/{_input:bn}.genes_list\"\n",
    "task: trunk_workers = 1, trunk_size = 2, walltime = '1h', mem = '1G', cores = 1, tags = f'{_output:bn}'\n",
    "bash: expand = True\n",
    "    zcat {_input} | cut -f 1 | tail -n +2 | sort -u > {_output}\n",
    "    \n",
    "[get_meta_3]\n",
    "# obtain a list of loci that shows up in all conditions\n",
    "input: group_by = 'all'\n",
    "output: f\"{out_dir:a}/{ss_dir:b}.genes_list\"\n",
    "python: expand = \"${ }\"\n",
    "    data = []\n",
    "    for item in [${_input:r,}]:\n",
    "        data.append([x.strip() for x in open(item).readlines()])\n",
    "    data = sorted(list(set.intersection(*map(set,data))))\n",
    "    with open(${_output:r}, 'w') as f:\n",
    "        f.write('\\n'.join(data))"
   ]
  },
  {
   "cell_type": "code",
   "execution_count": null,
   "metadata": {
    "kernel": "Bash"
   },
   "outputs": [],
   "source": [
    "sos run European_QTL.ipynb get_meta -c midway2.yml -q midway2 --ss-dir /project2/mstephens/gaow/gtex_v8_eqtl_eur_only\n",
    "sos run European_QTL.ipynb get_meta -c midway2.yml -q midway2 --ss-dir /project2/mstephens/gaow/gtex_v8_sqtl_eur_only"
   ]
  },
  {
   "cell_type": "markdown",
   "metadata": {
    "kernel": "SoS"
   },
   "source": [
    "Then I'm ready to run the data format conversion,"
   ]
  },
  {
   "cell_type": "code",
   "execution_count": null,
   "metadata": {
    "kernel": "SoS"
   },
   "outputs": [],
   "source": [
    "[convert]\n",
    "parameter: cols = list\n",
    "bash: expand = True\n",
    "    sos run fastqtl_to_mash.ipynb \\\n",
    "        --cwd {out_dir:a}/fastqtl_to_mash_output \\\n",
    "        --data-list {out_dir:a}/{ss_dir:b}.sumstats_list \\\n",
    "        --gene-list {out_dir:a}/{ss_dir:b}.genes_list \\\n",
    "        -c midway2.yml -q midway2 --common-suffix \".txt\" \\\n",
    "        --cols {paths(cols)}"
   ]
  },
  {
   "cell_type": "code",
   "execution_count": null,
   "metadata": {
    "kernel": "Bash"
   },
   "outputs": [],
   "source": [
    "sos run European_QTL.ipynb convert --ss-dir /project2/mstephens/gaow/gtex_v8_eqtl_eur_only --cols 8 9 7\n",
    "sos run European_QTL.ipynb convert --ss-dir /project2/mstephens/gaow/gtex_v8_sqtl_eur_only --cols 7 8 6"
   ]
  },
  {
   "cell_type": "markdown",
   "metadata": {
    "kernel": "Bash"
   },
   "source": [
    "## Run MASH pipeline"
   ]
  },
  {
   "cell_type": "code",
   "execution_count": null,
   "metadata": {
    "kernel": "SoS"
   },
   "outputs": [],
   "source": [
    "[mash]\n",
    "bash: expand = True\n",
    "    sos run mashr_flashr_workflow.ipynb mash \\\n",
    "    --cwd {out_dir:a}/mashr_flashr_workflow_output \\\n",
    "    --data {out_dir:a}/fastqtl_to_mash_output/{ss_dir:b}.mash.rds \\\n",
    "    --vhat mle -c midway2.yml -q midway2"
   ]
  },
  {
   "cell_type": "code",
   "execution_count": null,
   "metadata": {
    "kernel": "Bash"
   },
   "outputs": [],
   "source": [
    "sos run European_QTL.ipynb mash --ss-dir /project2/mstephens/gaow/gtex_v8_eqtl_eur_only\n",
    "sos run European_QTL.ipynb mash --ss-dir /project2/mstephens/gaow/gtex_v8_sqtl_eur_only"
   ]
  }
 ],
 "metadata": {
  "kernelspec": {
   "display_name": "SoS",
   "language": "sos",
   "name": "sos"
  },
  "language_info": {
   "codemirror_mode": "sos",
   "file_extension": ".sos",
   "mimetype": "text/x-sos",
   "name": "sos",
   "nbconvert_exporter": "sos_notebook.converter.SoS_Exporter",
   "pygments_lexer": "sos"
  },
  "sos": {
   "kernels": [
    [
     "Bash",
     "bash",
     "Bash",
     "#E6EEFF",
     ""
    ],
    [
     "SoS",
     "sos",
     "",
     "",
     "sos"
    ]
   ],
   "version": "0.20.5"
  }
 },
 "nbformat": 4,
 "nbformat_minor": 4
}
