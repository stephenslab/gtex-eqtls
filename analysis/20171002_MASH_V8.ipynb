{
 "cells": [
  {
   "cell_type": "markdown",
   "metadata": {},
   "source": [
    "# MASH analysis for GTEx V8 data\n",
    "This is the new `mashr` version of analysis.\n",
    "\n",
    "It follows in structure from [this notebook](20170829_MASH_Paper.html) though not implementation."
   ]
  },
  {
   "cell_type": "code",
   "execution_count": 6,
   "metadata": {
    "collapsed": true,
    "kernel": "SoS",
    "tags": [
     "report_cell"
    ]
   },
   "outputs": [],
   "source": [
    "[global]\n",
    "parameter: cwd = '~/Documents/GTExV8/MASH'\n",
    "sfa_exe = \"~/Documents/GTExV8/utils/sfa/bin/sfa_linux\"\n",
    "parameter: data = \"${cwd!a}/GTExV8.ciseQTL.4MASH.rds\""
   ]
  },
  {
   "cell_type": "markdown",
   "metadata": {},
   "source": [
    "## Covariance pattern discovery\n",
    "This section obtains covariance matrices, ie, the priors, for `mash` model.\n",
    "\n",
    "### SFA\n",
    "We analyze data with SFA, which will be used to provide part of the prior matrices list. The cell below downloads SFA software and run it on data with rank `K = 5`."
   ]
  },
  {
   "cell_type": "code",
   "execution_count": 5,
   "metadata": {
    "kernel": "SoS",
    "tags": [
     "report_cell"
    ]
   },
   "outputs": [
    {
     "name": "stderr",
     "output_type": "stream",
     "text": [
      "INFO: \u001b[32msfa_download\u001b[0m (index=0) is \u001b[32mignored\u001b[0m due to saved signature\n"
     ]
    },
    {
     "data": {
      "text/html": [
       "<div class=\"sos_hint\">1 task completed: <a onclick=\"task_info('d79367f99767ea57de686c0c96877bbd', 'localhost')\">d793</a></div>"
      ]
     },
     "metadata": {},
     "output_type": "display_data"
    },
    {
     "name": "stdout",
     "output_type": "stream",
     "text": [
      "\n"
     ]
    }
   ],
   "source": [
    "%run sfa\n",
    "[sfa_download: provides = sfa_exe]\n",
    "task: workdir = \"~/Documents/GTExV8/utils\"\n",
    "download: decompress = True\n",
    "    http://stephenslab.uchicago.edu/assets/software/sfa/sfa1.0.tar.gz\n",
    "\n",
    "[sfa]\n",
    "depends: sfa_exe\n",
    "K = 5\n",
    "tmpfile = \"/tmp/${data!bn}.max.txt\"\n",
    "input: data\n",
    "output: \"${input!n}.sfa.rds\"\n",
    "task: workdir = cwd\n",
    "R:\n",
    "    z = readRDS(${input!ar})$max$z\n",
    "    write.table(z, ${tmpfile!r}, col.names=F,row.names=F)\n",
    "    cmd = paste0('${sfa_exe} -gen ${tmpfile} -g ', dim(z)[1], ' -n ', dim(z)[2], \n",
    "                 ' -k ${K} -iter 50 -rand 999 -o ${input!bn}')\n",
    "    system(cmd)\n",
    "    saveRDS(list(F = read.table(\"${input!n}_F.out\"),\n",
    "                lambda = read.table(\"${input!n}_lambda.out\"),\n",
    "                sigma2 = read.table(\"${input!n}_sigma2.out\"),\n",
    "                alpha = read.table(\"${input!n}_alpha.out\")), ${output!r})\n",
    "bash:\n",
    "    rm -f *{_F.out,_lambda.out,_sigma2.out,_alpha.out}"
   ]
  },
  {
   "cell_type": "markdown",
   "metadata": {},
   "source": [
    "###  Create and refine multi-rank covariance matrices\n",
    "Here we create 3 covariance matrices:\n",
    "\n",
    "* SFA (rank 5, previously computed)\n",
    "  * plus single rank SFAs\n",
    "* PCA (rank 5, to be computed)\n",
    "  * plus single rank PCAs\n",
    "* Empirical covariance\n",
    "\n",
    "and apply [Extreme Deconvolution](https://github.com/jobovy/extreme-deconvolution) to refine the matrices. We observed that Extreme Deconvolution perserves rank.\n",
    "\n",
    "Additionally we include 2 other types of covariance matrices:\n",
    "* canonical configurations (aka `bmalite`)\n",
    "* simple heterogeneity models"
   ]
  },
  {
   "cell_type": "code",
   "execution_count": null,
   "metadata": {
    "kernel": "SoS",
    "tags": [
     "report_cell"
    ]
   },
   "outputs": [],
   "source": [
    "%run\n",
    "[mash_1]\n",
    "# Data-driven covariates with PCA and factor analysis on top signals\n",
    "# followed by extreme deconvolution refinement\n",
    "depends: R_library(\"ExtremeDeconvolution\"), R_library(\"stephenslab/mashr\")\n",
    "K = 5 # same as in mash paper\n",
    "P = 3 # same as in mash paper\n",
    "input: data, \"${data!n}.sfa.rds\"\n",
    "output: \"${data!n}.cov.K${K}.P${P}.rds\"\n",
    "task: workdir = cwd\n",
    "R:\n",
    "    dat = readRDS('${input[0]}')\n",
    "    sfa_data = readRDS(\"${input[1]}\")\n",
    "    mash_data = mashr::set_mash_data(as.matrix(dat$max$z), matrix(1, nrow(dat$max$se), ncol(dat$max$se)))\n",
    "    sfa_res = as.matrix(sfa_data$lambda) %*% as.matrix(sfa_data$F)\n",
    "    # SFA matrices\n",
    "    U.sfa = c(mashr::cov_from_factors(as.matrix(sfa_data$F), \"sfa${K}\"), list(\"tSFA\" = t(sfa_res) %*% sfa_res / nrow(dat$max$z)))\n",
    "    # SVD matrices\n",
    "    U.pca = mashr::cov_pca(mash_data, ${P})\n",
    "    # Emperical data matrices\n",
    "    D.center = apply(mash_data$Bhat, 2, function(x) x - mean(x))\n",
    "    # Denoised data-driven matrices\n",
    "    U.ed = mashr::cov_ed(mash_data, c(U.sfa, U.pca, list(\"tCOV\" = t(D.center) %*% D.center / nrow(dat$max$z))))\n",
    "    # Canonical matrices\n",
    "    U.can = mashr::cov_canonical(mash_data)\n",
    "    saveRDS(c(U.ed, U.can), ${output!r})"
   ]
  },
  {
   "cell_type": "markdown",
   "metadata": {},
   "source": [
    "## Fit MASH mixture model\n",
    "Using a random null set, the cell below computes the weights for input covariance matrices (priors) in MASH mixture. The output contains matrix of log-likelihoods as well as weights learned from the hierarchical model."
   ]
  },
  {
   "cell_type": "code",
   "execution_count": null,
   "metadata": {
    "collapsed": true,
    "tags": [
     "report_cell"
    ]
   },
   "outputs": [],
   "source": [
    "[mash_2]\n",
    "depends: R_library(\"REBayes\")\n",
    "output: \"${input!n}.mash_model.rds\"\n",
    "task: workdir = cwd\n",
    "R:\n",
    "    dat = readRDS(${data!r})\n",
    "    mash_data = mashr::set_mash_data(as.matrix(dat$null$z), matrix(1, nrow(dat$null$se), ncol(dat$null$se)))\n",
    "    U.c = readRDS(${input!r})\n",
    "    saveRDS(mashr::mash(mash_data, Ulist = U.c, outputlevel = 1), ${output!r})"
   ]
  },
  {
   "cell_type": "markdown",
   "metadata": {},
   "source": [
    "## Posterior inference\n",
    "Applying hyperparameters learned from the training (the null) set to the test (the top eQTL) set, the cell below computes posterior quantities. "
   ]
  },
  {
   "cell_type": "code",
   "execution_count": null,
   "metadata": {
    "collapsed": true,
    "tags": [
     "report_cell"
    ]
   },
   "outputs": [],
   "source": [
    "[mash_3]\n",
    "output: \"${input!nn}.mash_posterior.rds\"\n",
    "task: workdir = cwd\n",
    "R:\n",
    "    dat = readRDS(${data!r})\n",
    "    mash_data = mashr::set_mash_data(as.matrix(dat$max$z), matrix(1, nrow(dat$max$se), ncol(dat$max$se)))\n",
    "    g = readRDS(${input!r})$fitted_g\n",
    "    saveRDS(mashr::mash_compute_posterior_matrices(g, mash_data), ${output!r})"
   ]
  },
  {
   "cell_type": "markdown",
   "metadata": {},
   "source": [
    "Now MASH analysis is complete. I will use a separate notebook to summarize, plot and visualize the result of analysis."
   ]
  },
  {
   "cell_type": "markdown",
   "metadata": {},
   "source": [
    "## Run this notebook\n",
    "For repeated runs it might be easier to execute from commandline instead of in Jupyter:\n",
    "\n",
    "```bash\n",
    "sos run analysis/20171002_MASH_V8.ipynb sfa # --data\n",
    "sos run analysis/20171002_MASH_V8.ipynb mash # --data ... --cwd ...\n",
    "```"
   ]
  },
  {
   "cell_type": "code",
   "execution_count": 24,
   "metadata": {
    "kernel": "SoS"
   },
   "outputs": [
    {
     "data": {
      "text/html": [
       "<p class=\"session_section\">SoS</p>\n",
       "<table class=\"session_info\">\n",
       "<tr>\n",
       "<th>SoS Version</th><td><pre>0.9.9.1</pre></td>\n",
       "</tr>\n",
       "</table>\n"
      ]
     },
     "metadata": {},
     "output_type": "display_data"
    }
   ],
   "source": [
    "%sessioninfo"
   ]
  }
 ],
 "metadata": {
  "celltoolbar": "Tags",
  "kernelspec": {
   "display_name": "SoS",
   "language": "sos",
   "name": "sos"
  },
  "language_info": {
   "codemirror_mode": "sos",
   "file_extension": ".sos",
   "mimetype": "text/x-sos",
   "name": "sos",
   "nbconvert_exporter": "sos.jupyter.converter.SoS_Exporter",
   "pygments_lexer": "sos"
  },
  "sos": {
   "default_kernel": "SoS",
   "kernels": [
    [
     "SoS",
     "sos",
     "",
     ""
    ],
    [
     "Python3",
     "python3",
     "Python3",
     "#FFE771"
    ],
    [
     "R",
     "ir",
     "R",
     "#DCDCDA"
    ]
   ],
   "panel": {
    "displayed": true,
    "height": 0,
    "style": "side"
   }
  }
 },
 "nbformat": 4,
 "nbformat_minor": 2
}
