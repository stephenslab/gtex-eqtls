{
 "cells": [
  {
   "cell_type": "markdown",
   "metadata": {},
   "source": [
    "# GTEx V8 genotypes\n",
    "Save V8 genotype data to HDF5 for association analysis.\n",
    "\n",
    "Genotype here already have been imputed and filtered for MAF > 1%. I only need to convert VCF to HDF5 format for per-gene data. "
   ]
  },
  {
   "cell_type": "code",
   "execution_count": 1,
   "metadata": {
    "collapsed": true,
    "kernel": "SoS"
   },
   "outputs": [],
   "source": [
    "[global]\n",
    "cwd = \"~/Documents/GTExV8\""
   ]
  },
  {
   "cell_type": "markdown",
   "metadata": {},
   "source": [
    "## Convert data to PLINK format"
   ]
  },
  {
   "cell_type": "code",
   "execution_count": 9,
   "metadata": {
    "kernel": "SoS"
   },
   "outputs": [
    {
     "name": "stderr",
     "output_type": "stream",
     "text": [
      "INFO: \u001b[32mvcf_to_plink_1\u001b[0m (index=0) is \u001b[32mignored\u001b[0m due to saved signature\n"
     ]
    },
    {
     "data": {
      "text/html": [
       "<div class=\"sos_hint\">1 task completed: <a onclick=\"task_info('ca3b5d3f026331363a9ab7292c850f9d', 'localhost')\">ca3b</a></div>"
      ]
     },
     "metadata": {},
     "output_type": "display_data"
    },
    {
     "name": "stdout",
     "output_type": "stream",
     "text": [
      "\n"
     ]
    },
    {
     "data": {
      "text/html": [
       "<table id=\"table_localhost_9e76872946e33a65442046fe2b28c705\" style=\"border: 0px\"><tr style=\"border: 0px\">\n",
       "                        <td style=\"border: 0px\">\n",
       "                        <i id=\"status_localhost_9e76872946e33a65442046fe2b28c705\"\n",
       "                            class=\"fa fa-2x fa-fw fa-square-o\"\n",
       "                            onmouseover=\"$('#status_localhost_9e76872946e33a65442046fe2b28c705').addClass('fa-stop').removeClass('fa-square-o')\"\n",
       "                            onmouseleave=\"$('#status_localhost_9e76872946e33a65442046fe2b28c705').addClass('fa-square-o').removeClass('fa-stop')\"\n",
       "                            onclick=\"kill_task('9e76872946e33a65442046fe2b28c705', 'localhost')\"\n",
       "                        ></i> </td>\n",
       "                        <td style=\"border:0px\"><a onclick=\"task_info('9e76872946e33a65442046fe2b28c705', 'localhost')\"><pre>9e76872946e33a65442046fe2b28c705</pre></a></td>\n",
       "                        <td style=\"border:0px\">&nbsp;</td>\n",
       "                        <td style=\"border:0px;text-align=right;\">\n",
       "                        <pre><time id=\"duration_localhost_9e76872946e33a65442046fe2b28c705\" datetime=\"1506724416071.412\">0 sec</time></pre></td>\n",
       "                        </tr>\n",
       "                        </table>"
      ]
     },
     "metadata": {},
     "output_type": "display_data"
    }
   ],
   "source": [
    "%sosrun vcf_to_plink -b ~/Documents/GTExV8/utils\n",
    "[vcf_to_plink_1]\n",
    "# VCF to plink rough conversion\n",
    "depends: executable(\"plink\")\n",
    "input: \"${cwd!a}/GTEx_Analysis_2017-06-05_v8_WholeGenomeSeq_838Indiv_Analysis_Freeze_MAF001_GTonly.vcf.gz\"\n",
    "output: \"${input!nn}.a2flipped.bed\"\n",
    "task: workdir = cwd\n",
    "run:\n",
    "  plink --vcf ${input} --out ${output!n} --make-bed\n",
    "\n",
    "[vcf_to_plink_2]\n",
    "# Fix multi-allelic sites\n",
    "# By changing duplicate SNP ID\n",
    "output: \"${input!n}.bim\"\n",
    "task: workdir = cwd\n",
    "python:\n",
    "    from collections import Counter\n",
    "    import numpy as np\n",
    "    dat = np.genfromtxt(${output!r}, dtype = '<U48')\n",
    "    counter = Counter()\n",
    "    dup_list = dat[:,1]\n",
    "    deduped = []\n",
    "    for name in dup_list:\n",
    "        new = name + '_' + str(counter[name]) if counter[name] else name\n",
    "        counter.update({name: 1})\n",
    "        deduped.append(new)\n",
    "    dat[:,1] = np.array(deduped)\n",
    "    np.savetxt(${output!r}, dat, delimiter = '\\t', fmt = '%s')\n",
    "\n",
    "[vcf_to_plink_3]\n",
    "# Allele fix\n",
    "input: group_by = 'single'\n",
    "output: \"${input!nn}.bed\"\n",
    "task: workdir = cwd\n",
    "bash:\n",
    "  paste <(cut -f2 ${input!n}.bim) <(zcat ${input!nn}.vcf.gz | grep -v \"^#\" | cut -f4) > ${input!nn}.a2\n",
    "  plink --bfile ${input!n} \\\n",
    "        --a2-allele ${input!nn}.a2 2 1 '#' \\\n",
    "        --out ${output!n} --make-bed\n",
    "  rm -f ${input!nn}.a2"
   ]
  },
  {
   "cell_type": "markdown",
   "metadata": {},
   "source": [
    "## Create cisSNP genotype data files\n",
    "This is largely copied from `20170530_CisSNP.ipynb`"
   ]
  },
  {
   "cell_type": "markdown",
   "metadata": {},
   "source": [
    "### Annotate genes\n",
    "Code chunk below annotates genes to chromosomal positions. Genes are taken from the GTEx expression file."
   ]
  },
  {
   "cell_type": "code",
   "execution_count": 4,
   "metadata": {
    "kernel": "SoS"
   },
   "outputs": [
    {
     "data": {
      "text/html": [
       "<div class=\"sos_hint\">1 task completed: <a onclick=\"task_info('316b86edfebd38609edb048e22dfe97b', 'localhost')\">316b</a></div>"
      ]
     },
     "metadata": {},
     "output_type": "display_data"
    },
    {
     "name": "stdout",
     "output_type": "stream",
     "text": [
      "\n"
     ]
    }
   ],
   "source": [
    "%sosrun ensembl_annotation\n",
    "[ensembl_annotation]\n",
    "# Input is GTEx expression file with first column the ENSG IDs\n",
    "depends: R_library(\"biomaRt\")\n",
    "input: \"${cwd!a}/rna-seq/GTEx_Analysis_2017-06-05_v8_RNASeQCv1.1.9_gene_reads.gct.gz\"\n",
    "output: \"${cwd!a}/${input!bn}.annotation\"\n",
    "task: workdir = cwd\n",
    "bash:\n",
    "    zcat ${input} | cut -f 1 | tail -n+4 | cut -f 1 -d '.' > ${input!n}.gene_id\n",
    "\n",
    "R:\n",
    "    values = unlist(read.table(\"${input!n}.gene_id\", stringsAsFactors=FALSE)) \n",
    "    ensembl = biomaRt::useMart(\"ensembl\", dataset=\"hsapiens_gene_ensembl\", host=\"www.ensembl.org\")\n",
    "    res = biomaRt::getBM(attributes = c(\"chromosome_name\", \"start_position\", \"end_position\", \"ensembl_gene_id\", \"hgnc_symbol\"), filters = c(\"ensembl_gene_id\"), values = values,  mart = ensembl)\n",
    "    write.table(res, file = ${output!r}, row.names=FALSE, na= \"<NA>\", col.names = FALSE)\n",
    "\n",
    "bash:\n",
    "    cat ${output} | sed -e 's/\"//g' | sort -g -o ${output}\n",
    "    rm -f ${input!n}.gene_id"
   ]
  },
  {
   "cell_type": "markdown",
   "metadata": {},
   "source": [
    "### Make cis-SNP tables\n",
    "Using position annotations previously obtained, we work though the genotype data in PLINK format, , creating for each gene a table containing its cis-SNPs. Variants are first annotated to genes, then cis-SNPs to extract are defined as SNPs 1,000,000 bp up/downstream of the gene's TSS site. The outcome is a **single analysis ready file** in HDF5 format containing ~50K groups of genotype data (gene-names). Code chunk below implements the procedure."
   ]
  },
  {
   "cell_type": "code",
   "execution_count": null,
   "metadata": {
    "collapsed": true
   },
   "outputs": [],
   "source": [
    "%sosrun cis_groups_hdf5\n",
    "[cis_groups_hdf5]\n",
    "# Convert plink genotype to HDF5 in batches of genes\n",
    "# Only autosomal genes are considered\n",
    "# cis: ${cis} up/downstream from TSS of each gene\n",
    "depends: Py_Module(\"pandas-plink\"), Py_Module(\"dask\"), \n",
    "    \"${cwd!a}/GTEx_Analysis_2017-06-05_v8_RNASeQCv1.1.9_gene_reads.gct.annotation\"\n",
    "parameter: cis = 1000000\n",
    "parameter: resume = 1\n",
    "input: \"${cwd!a}/GTEx_Analysis_2017-06-05_v8_WholeGenomeSeq_838Indiv_Analysis_Freeze_MAF001_GTonly.bed\"\n",
    "output: \"${cwd!a}/GTExV8.genotype.cis.h5\"\n",
    "task: workdir = cwd\n",
    "python:\n",
    "    import os\n",
    "    import pandas as pd, numpy as np\n",
    "    from pandas_plink import read_plink\n",
    "    keys = []\n",
    "    if os.path.isfile(${output!r}):\n",
    "       if ${resume} == 1:\n",
    "          print(\"loading existing database ${output!b}\")\n",
    "          keys = pd.HDFStore(${output!r}).keys()\n",
    "          print(\"{} existing genes will be skipped\".format(len(keys)))\n",
    "       else:\n",
    "          os.remove(${output!r})\n",
    "\n",
    "    (bim, fam, bed) = read_plink(${input!nr})\n",
    "    ann = [x.strip().split() for x in open(\"${cwd!a}/GTEx_Analysis_2017-06-05_v8_RNASeQCv1.1.9_gene_reads.gct.annotation\").readlines()]\n",
    "    n = len(ann)\n",
    "    empty_genes = []\n",
    "    for i, line in enumerate(ann):\n",
    "        if(i % 100 == 0):\n",
    "            print('[percent completed] %.2f' % ((float(i)/n)*100))\n",
    "        if line[0] not in list(map(str, [x+1 for x in range(22)])):\n",
    "            continue\n",
    "        if '/chr{}/{}'.format(line[0], line[3]) in keys:\n",
    "            continue\n",
    "        snps = bim.query(\"chrom == '{}' and (pos >= {} and pos <= {})\".\\\n",
    "                                format(line[0], int(line[1]) - ${cis}, int(line[1]) + ${cis}))\n",
    "        if (snps.empty):\n",
    "            empty_genes.append(line[3])\n",
    "            continue\n",
    "        X = pd.DataFrame(2 - bed[snps.i,:].compute(), \n",
    "                         index = [':'.join((x.split('_', 1)[0], y,z)) for x, y, z in zip(snps.snp, snps.a1, snps.a0)], \n",
    "                         columns = fam.iid, dtype = np.uint8)\n",
    "        X.to_hdf(${output!r}, 'chr{}/{}'.format(line[0], line[3]), mode = 'a', complevel = 9, complib = 'zlib')\n",
    "    with open(\"${output!n}.log\", 'w') as f:\n",
    "         f.write('# Empty genes\\n' + '\\n'.join(empty_genes))"
   ]
  }
 ],
 "metadata": {
  "kernelspec": {
   "display_name": "SoS",
   "language": "sos",
   "name": "sos"
  },
  "language_info": {
   "codemirror_mode": "sos",
   "file_extension": ".sos",
   "mimetype": "text/x-sos",
   "name": "sos",
   "nbconvert_exporter": "sos.jupyter.converter.SoS_Exporter",
   "pygments_lexer": "sos"
  },
  "sos": {
   "default_kernel": "SoS",
   "kernels": [
    [
     "Python3",
     "python3",
     "Python3",
     "#FFE771"
    ],
    [
     "R",
     "ir",
     "R",
     "#DCDCDA"
    ],
    [
     "SoS",
     "sos",
     "",
     ""
    ]
   ],
   "panel": {
    "displayed": true,
    "height": 0,
    "style": "side"
   }
  }
 },
 "nbformat": 4,
 "nbformat_minor": 2
}
