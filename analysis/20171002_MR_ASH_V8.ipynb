{
 "cells": [
  {
   "cell_type": "markdown",
   "metadata": {},
   "source": [
    "# MR ASH on single tissue data \n",
    "cis-eQTL analysis using `mr-ash`, for GTEx V8."
   ]
  },
  {
   "cell_type": "markdown",
   "metadata": {
    "collapsed": true,
    "kernel": "SoS"
   },
   "source": [
    "This notebook analyzes a toy example for GTEx V8 data extracted via:\n",
    "\n",
    "```\n",
    "sos run analysis/20170627_Subset_Genes.ipynb \\\n",
    "    --cwd ~/Documents/GTExV8\n",
    "    --glist ~/GIT/github/gtex-eqtls/data/3mashgenes.txt \\\n",
    "    --ann_file ~/Documents/GTExV8/GTEx_Analysis_2017-06-05_v8_RNASeQCv1.1.9_gene_reads.gct.annotation \\\n",
    "    --geno_file ~/Documents/GTExV8/GTExV8.genotype.cis.h5 \\\n",
    "    --expr_file ~/Documents/GTExV8/GTExV8.expression.h5\n",
    "```\n",
    "\n",
    "Code chunks below analyzes this toy data-set with mr-ash. This notebook should be considered the `master` notebook for mr-ash analysis.\n",
    "\n",
    "As always, a `gene_list` file can be provided to speed up data loading and to fine-control which genes to analyze. This list is prepared beforehand (using codes in the cell below) saved as `GTExV8.genotype.cis.genes`."
   ]
  },
  {
   "cell_type": "code",
   "execution_count": null,
   "metadata": {
    "collapsed": true,
    "kernel": "SoS"
   },
   "outputs": [],
   "source": [
    "[global]\n",
    "depends: Py_Module('h5py')\n",
    "import h5py\n",
    "parameter: seed = 999\n",
    "parameter: cwd = '~/Documents/GTExV8'\n",
    "parameter: geno = \"${cwd!a}/ToyExample/3mashgenes.genotype.h5\"\n",
    "parameter: expr = \"${cwd!a}/ToyExample/3mashgenes.expr.h5\"\n",
    "parameter: covar = \"${cwd!a}/ToyExample/3mashgenes.covar.h5\"\n",
    "parameter: tissues = list(h5py.File(expr, libver='latest').keys())\n",
    "parameter: gene_list = ''\n",
    "genes = []\n",
    "if os.path.isfile(gene_list):\n",
    "    genes = get_output(\"cat {}\".format(gene_list)).strip().split()\n",
    "else:\n",
    "    with h5py.File(geno, libver='latest') as f:\n",
    "        for k in f:\n",
    "            genes.extend(['{}/{}'.format(k, x) for x in f[k]])"
   ]
  },
  {
   "cell_type": "code",
   "execution_count": 2,
   "metadata": {
    "collapsed": true,
    "kernel": "SoS"
   },
   "outputs": [],
   "source": [
    "[default]\n",
    "depends: R_library('rhdf5'), R_library('tools'), R_library('glmnet')\n",
    "input: for_each = ['genes', 'tissues']\n",
    "output: \"${cwd!a}/MR_ASH/${geno!bnnn}/${_tissues}_${_genes!b}.rds\"\n",
    "task: workdir = cwd, walltime = '10m', cores = 1, mem = \"2G\", \n",
    "        trunk_size = 200, trunk_workers = 1\n",
    "R:\n",
    "    load_data = function(genotype_file, expr_file, cov_file, geno_table, expr_table, cov_table) {\n",
    "        library(rhdf5)\n",
    "        geno = h5read(genotype_file, geno_table)\n",
    "        gdata = data.frame(geno$block0_values)\n",
    "        colnames(gdata) = geno$axis1\n",
    "        rownames(gdata) = geno$axis0\n",
    "        #\n",
    "        expr = h5read(expr_file, expr_table)\n",
    "        edata = data.frame(expr$block0_values)\n",
    "        colnames(edata) = tools::file_path_sans_ext(expr$axis1)\n",
    "        edata = data.frame(edata[, basename(geno_table)])\n",
    "        rownames(edata) = expr$axis0\n",
    "        colnames(edata) = basename(geno_table)\n",
    "        #\n",
    "        covariate <- h5read(cov_file, cov_table)\n",
    "        cdata = data.frame(covariate$block0_values)\n",
    "        colnames(cdata) = covariate$axis1\n",
    "        rownames(cdata) = covariate$axis0\n",
    "        cdata = t(cdata)\n",
    "        # reorder\n",
    "        edata = edata[match(rownames(cdata), rownames(edata)),]\n",
    "        gdata = gdata[rownames(cdata),]\n",
    "        return(list(X = as.matrix(gdata), y = as.vector(edata), Z = as.matrix(cdata)))\n",
    "    }\n",
    "\n",
    "    autoselect.mixsd = function(betahat,sebetahat,mult = sqrt(2)){\n",
    "        # To avoid exact measure causing (usually by mistake)\n",
    "        sebetahat = sebetahat[sebetahat!=0] \n",
    "        # so that the minimum is small compared with measurement precision\n",
    "        sigmaamin = min(sebetahat)/10 \n",
    "        if (all(betahat^2 <= sebetahat^2)) {\n",
    "            # to deal with the occassional odd case where this could happen; 8 is arbitrary\n",
    "            sigmaamax = 8*sigmaamin \n",
    "        } else {\n",
    "            # this computes a rough largest value you'd want to use, \n",
    "            # based on idea that sigmaamax^2 + sebetahat^2 should be at least betahat^2   \n",
    "            sigmaamax = 2*sqrt(max(betahat^2-sebetahat^2)) \n",
    "        }\n",
    "        if(mult==0){\n",
    "            return(c(0,sigmaamax/2))\n",
    "        } else {\n",
    "            npoint = ceiling(log2(sigmaamax/sigmaamin)/log2(mult))\n",
    "            return(mult^((-npoint):0) * sigmaamax)\n",
    "        }\n",
    "    }\n",
    "\n",
    "    univariate_regression = function(X,y,Z = NULL){\n",
    "        P = dim(X)[2]\n",
    "        if (!is.null(Z)) {\n",
    "            y = lm(y~Z)$residuals\n",
    "        }\n",
    "        output = matrix(0,nrow = P,ncol = 2)\n",
    "        for(i in 1:P){\n",
    "          g = summary(lm(y ~ X[,i]))\n",
    "          output[i,] = g$coefficients[2,1:2]\n",
    "        }\n",
    "        return(list(betahat = output[,1], sebetahat = output[,2], \n",
    "                    residuals = y))\n",
    "    }\n",
    "\n",
    "    lasso_reorder = function(X, y) {\n",
    "        # perform lasso regression and reorder regressors by \"importance\"\n",
    "        fit.glmnet <- glmnet::glmnet(X, y, intercept = F)\n",
    "        beta_path = coef(fit.glmnet)[-1,]\n",
    "        K = dim(beta_path)[2]\n",
    "        path_order = c()\n",
    "        for (k in 1:K) {\n",
    "            crt_path = which(beta_path[,k] != 0)\n",
    "            if (length(crt_path) != 0 & length(path_order) == 0) {\n",
    "                path_order = c(path_order, crt_path)\n",
    "            } else if(length(crt_path) != 0) {\n",
    "                path_order = c(path_order, crt_path[-which(crt_path %in% path_order)] )\n",
    "            }\n",
    "        }\n",
    "        path_order = unname(path_order)\n",
    "        index_order = c(path_order, seq(1,dim(beta_path)[1])[-path_order])\n",
    "        return(index_order)\n",
    "    }\n",
    "            \n",
    "\n",
    "    analyze = function(genename = '/chr4/ENSG00000145214', tissue = '/Thyroid', out = 'test.rds'){\n",
    "        dat = load_data(genotype_file = ${geno!ar},\n",
    "                      expr_file = ${expr!ar},\n",
    "                      cov_file = ${covar!ar},\n",
    "                      geno_table = genename,\n",
    "                      expr_table = tissue,\n",
    "                      cov_table = tissue)\n",
    "        X = as.matrix(dat$X)\n",
    "        X = X[,which(colSums(X)!=0)]\n",
    "        if ((nrow(X) == 0) || (ncol(X) == 0)) {\n",
    "        saveRDS(list(), out)\n",
    "        } else {\n",
    "        storage.mode(X) <- \"double\"\n",
    "        y = as.vector(dat$y)\n",
    "        Z = as.matrix(dat$Z)\n",
    "        # univariate results\n",
    "        initial = univariate_regression(X, y ,Z)\n",
    "        mixsd = autoselect.mixsd(initial$betahat, initial$sebetahat)\n",
    "        mu_zero = matrix(0, ncol = length(mixsd)+1, nrow = ncol(X))\n",
    "        alpha_zero = matrix(1/ncol(X), ncol = length(mixsd)+1,nrow = ncol(X))\n",
    "        alpha_zero[,1] = 1 - length(mixsd) / ncol(X)\n",
    "        index_order = lasso_reorder(X, initial$residuals)\n",
    "        logdata = capture.output({res = varbvs::varbvsmix(X[, index_order], Z, y, \n",
    "                                                          sa = c(0,mixsd^2), \n",
    "                                                          mu = mu_zero,\n",
    "                                                          alpha = alpha_zero,\n",
    "                                                          verbose = F) })\n",
    "        betahat = rowSums(res$alpha * res$mu)\n",
    "        names(betahat) = colnames(X)\n",
    "        mrash_out = list(betahat = betahat, lfsr = res$lfsr)\n",
    "        ash_out = ashr::ash(initial$betahat,initial$sebetahat,mixcompdist = \"normal\")\n",
    "        saveRDS(list(ash = ash_out, uni = initial, mr_ash = mrash_out, logdata = logdata), out)\n",
    "        }\n",
    "    }\n",
    "                                                                      \n",
    "    set.seed(${seed})\n",
    "    analyze(genename = \"/${_genes}\", tissue = \"/${_tissues}\", out = ${_output!r})"
   ]
  },
  {
   "cell_type": "markdown",
   "metadata": {},
   "source": [
    "## Run workflow on remote computer\n",
    "For starters I'll focus on one tissue, Thyroid:\n",
    "\n",
    "```\n",
    "sos run analysis/20171002_MR_ASH_V8.ipynb -r midway2 \\\n",
    "    --geno /home/gaow/Documents/GTExV8/GTExV8.genotype.cis.h5 \\\n",
    "    --expr /home/gaow/Documents/GTExV8/GTExV8.expression.h5 \\\n",
    "    --covar /home/gaow/Documents/GTExV8/GTExV8.covariates.orth.h5 \\\n",
    "    --tissues Thyroid \\\n",
    "    --gene_list /home/gaow/Documents/GTExV8/toy.txt\n",
    "```"
   ]
  },
  {
   "cell_type": "code",
   "execution_count": 1,
   "metadata": {
    "kernel": "SoS"
   },
   "outputs": [
    {
     "data": {
      "text/html": [
       "<p class=\"session_section\">SoS</p>\n",
       "<table class=\"session_info\">\n",
       "<tr>\n",
       "<th>SoS Version</th><td><pre>0.9.9.1</pre></td>\n",
       "</tr>\n",
       "</table>\n"
      ]
     },
     "metadata": {},
     "output_type": "display_data"
    }
   ],
   "source": [
    "%sessioninfo"
   ]
  }
 ],
 "metadata": {
  "celltoolbar": "Tags",
  "kernelspec": {
   "display_name": "SoS",
   "language": "sos",
   "name": "sos"
  },
  "language_info": {
   "codemirror_mode": "sos",
   "file_extension": ".sos",
   "mimetype": "text/x-sos",
   "name": "sos",
   "nbconvert_exporter": "sos.jupyter.converter.SoS_Exporter",
   "pygments_lexer": "sos"
  },
  "sos": {
   "default_kernel": "SoS",
   "kernels": [
    [
     "SoS",
     "sos",
     "",
     ""
    ],
    [
     "ir",
     "ir",
     "",
     ""
    ],
    [
     "python3",
     "python3",
     "",
     ""
    ]
   ],
   "panel": {
    "displayed": false,
    "height": 0,
    "style": "side"
   }
  }
 },
 "nbformat": 4,
 "nbformat_minor": 2
}
