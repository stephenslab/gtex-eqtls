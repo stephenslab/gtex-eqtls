{
 "cells": [
  {
   "cell_type": "markdown",
   "metadata": {},
   "source": [
    "# Analyzing a toy example with `varbvs` and `mr-ash`"
   ]
  },
  {
   "cell_type": "markdown",
   "metadata": {},
   "source": [
    "In this example we analyze a data set where there is potentially multiple SNPs associated with gene expression. We use both `bvs` and `mr-ash` methods, initializing both of them with results from `lasso`."
   ]
  },
  {
   "cell_type": "markdown",
   "metadata": {},
   "source": [
    "## Utility functions\n"
   ]
  },
  {
   "cell_type": "code",
   "execution_count": 1,
   "metadata": {},
   "outputs": [],
   "source": [
    "autoselect.mixsd = function(betahat,sebetahat,mult = sqrt(2)){\n",
    "        # To avoid exact measure causing (usually by mistake)\n",
    "        sebetahat = sebetahat[sebetahat!=0] \n",
    "        # so that the minimum is small compared with measurement precision\n",
    "        sigmaamin = min(sebetahat)/10 \n",
    "        if (all(betahat^2 <= sebetahat^2)) {\n",
    "            # to deal with the occassional odd case where this could happen; 8 is arbitrary\n",
    "            sigmaamax = 8*sigmaamin \n",
    "        } else {\n",
    "            # this computes a rough largest value you'd want to use, \n",
    "            # based on idea that sigmaamax^2 + sebetahat^2 should be at least betahat^2   \n",
    "            sigmaamax = 2*sqrt(max(betahat^2-sebetahat^2)) \n",
    "        }\n",
    "        if(mult==0){\n",
    "            return(c(0,sigmaamax/2))\n",
    "        } else {\n",
    "            npoint = ceiling(log2(sigmaamax/sigmaamin)/log2(mult))\n",
    "            return(mult^((-npoint):0) * sigmaamax)\n",
    "        }\n",
    "    }\n",
    "univariate_regression = function(X,y,Z = NULL){\n",
    "        P = dim(X)[2]\n",
    "        if (!is.null(Z)) {\n",
    "            y = lm(y~Z)$residuals\n",
    "        }\n",
    "        output = matrix(0,nrow = P,ncol = 2)\n",
    "        for(i in 1:P){\n",
    "          g = summary(lm(y ~ X[,i]))\n",
    "          output[i,] = g$coefficients[2,1:2]\n",
    "        }\n",
    "        return(list(betahat = output[,1], sebetahat = output[,2], \n",
    "                    residuals = y))\n",
    "    }\n",
    "lasso_reorder = function(X, y) {\n",
    "        # perform lasso regression and reorder regressors by \"importance\"\n",
    "        fit.glmnet <- glmnet::glmnet(X, y, intercept = F)\n",
    "        beta_path = coef(fit.glmnet)[-1,]\n",
    "        K = dim(beta_path)[2]\n",
    "        path_order = c()\n",
    "        for (k in 1:K) {\n",
    "            crt_path = which(beta_path[,k] != 0)\n",
    "            if (length(crt_path) != 0 & length(path_order) == 0) {\n",
    "                path_order = c(path_order, crt_path)\n",
    "            } else if(length(crt_path) != 0) {\n",
    "                path_order = c(path_order, crt_path[-which(crt_path %in% path_order)] )\n",
    "            }\n",
    "        }\n",
    "        path_order = unname(path_order)\n",
    "        index_order = c(path_order, seq(1,dim(beta_path)[1])[-path_order])\n",
    "        return(index_order)\n",
    "    }\n",
    "\n",
    "# compute fitted values from varbvsmix \n",
    "fitfv = function(X,Z,fit){\n",
    "  bhat = rowSums(fit$alpha*fit$mu)\n",
    "  return(X %*% bhat + fit$mu.cov[1] + Z %*% fit$mu.cov[-1])\n",
    "}"
   ]
  },
  {
   "cell_type": "markdown",
   "metadata": {},
   "source": [
    "## Core analysis"
   ]
  },
  {
   "cell_type": "code",
   "execution_count": 5,
   "metadata": {},
   "outputs": [],
   "source": [
    "input_file = \"../data/Thyroid.FMO2.1Mb.RDS\"\n",
    "dat = readRDS(input_file)\n",
    "X = as.matrix(dat$X)\n",
    "X = X[,which(colSums(X)!=0)]\n",
    "storage.mode(X) <- \"double\"\n",
    "y = as.vector(dat$y)\n",
    "Z = as.matrix(dat$Z)\n",
    "# univariate results\n",
    "initial = univariate_regression(X, y ,Z)\n",
    "mixsd = autoselect.mixsd(initial$betahat, initial$sebetahat)\n",
    "mu_zero = matrix(0, ncol = length(mixsd)+1, nrow = ncol(X))\n",
    "alpha_zero = matrix(1/ncol(X), ncol = length(mixsd)+1,nrow = ncol(X))\n",
    "alpha_zero[,1] = 1 - length(mixsd) / ncol(X)\n",
    "index_order = lasso_reorder(X, initial$residuals)\n",
    "# bvsmix with lasso init vs random init\n",
    "fit11 = varbvs::varbvsmix(X[, index_order], \n",
    "                         Z, y, sa = c(0,mixsd^2),\n",
    "                         mu = mu_zero,\n",
    "                         alpha = alpha_zero,\n",
    "                         verbose = F)\n",
    "fit12 = varbvs::varbvsmix(X, \n",
    "                         Z, y, sa = c(0,mixsd^2),\n",
    "                         mu = mu_zero,\n",
    "                         alpha = alpha_zero,\n",
    "                         verbose = F)\n",
    "# bvsmix with lasso init vs random init\n",
    "fit21 = varbvs::varbvs(X[, index_order], Z, y, verbose = F)\n",
    "fit22 = varbvs::varbvs(X, Z, y, verbose = F)"
   ]
  },
  {
   "cell_type": "markdown",
   "metadata": {},
   "source": [
    "## Check top hits with lasso init"
   ]
  },
  {
   "cell_type": "code",
   "execution_count": 10,
   "metadata": {},
   "outputs": [
    {
     "data": {
      "text/html": [
       "<table>\n",
       "<tbody>\n",
       "\t<tr><th scope=row>chr1_171172098_C_T_b38</th><td>1.0000000   </td><td>1.000000e+00</td></tr>\n",
       "\t<tr><th scope=row>chr1_171122735_A_G_b38</th><td>1.0000000   </td><td>5.487233e-03</td></tr>\n",
       "\t<tr><th scope=row>chr1_171190872_G_A_b38</th><td>0.4840977   </td><td>1.914644e-05</td></tr>\n",
       "\t<tr><th scope=row>chr1_171219393_T_A_b38</th><td>0.4827524   </td><td>2.446686e-05</td></tr>\n",
       "\t<tr><th scope=row>chr1_171178705_A_G_b38</th><td>0.4825416   </td><td>2.025885e-05</td></tr>\n",
       "</tbody>\n",
       "</table>\n"
      ],
      "text/latex": [
       "\\begin{tabular}{r|ll}\n",
       "\tchr1\\_171172098\\_C\\_T\\_b38 & 1.0000000    & 1.000000e+00\\\\\n",
       "\tchr1\\_171122735\\_A\\_G\\_b38 & 1.0000000    & 5.487233e-03\\\\\n",
       "\tchr1\\_171190872\\_G\\_A\\_b38 & 0.4840977    & 1.914644e-05\\\\\n",
       "\tchr1\\_171219393\\_T\\_A\\_b38 & 0.4827524    & 2.446686e-05\\\\\n",
       "\tchr1\\_171178705\\_A\\_G\\_b38 & 0.4825416    & 2.025885e-05\\\\\n",
       "\\end{tabular}\n"
      ],
      "text/markdown": [
       "\n",
       "| chr1_171172098_C_T_b38 | 1.0000000    | 1.000000e+00 | \n",
       "| chr1_171122735_A_G_b38 | 1.0000000    | 5.487233e-03 | \n",
       "| chr1_171190872_G_A_b38 | 0.4840977    | 1.914644e-05 | \n",
       "| chr1_171219393_T_A_b38 | 0.4827524    | 2.446686e-05 | \n",
       "| chr1_171178705_A_G_b38 | 0.4825416    | 2.025885e-05 | \n",
       "\n",
       "\n"
      ],
      "text/plain": [
       "                       [,1]      [,2]        \n",
       "chr1_171172098_C_T_b38 1.0000000 1.000000e+00\n",
       "chr1_171122735_A_G_b38 1.0000000 5.487233e-03\n",
       "chr1_171190872_G_A_b38 0.4840977 1.914644e-05\n",
       "chr1_171219393_T_A_b38 0.4827524 2.446686e-05\n",
       "chr1_171178705_A_G_b38 0.4825416 2.025885e-05"
      ]
     },
     "metadata": {},
     "output_type": "display_data"
    }
   ],
   "source": [
    "mix.top = names(sort(fit11$lfsr)[1:5])\n",
    "cbind(1 - fit11$lfsr[mix.top], fit21$alpha[,1][mix.top])"
   ]
  },
  {
   "cell_type": "code",
   "execution_count": 11,
   "metadata": {},
   "outputs": [
    {
     "data": {
      "text/html": [
       "<table>\n",
       "<tbody>\n",
       "\t<tr><th scope=row>chr1_171172098_C_T_b38</th><td>1.0000000 </td><td>0.99999999</td></tr>\n",
       "\t<tr><th scope=row>chr1_171133158_A_G_b38</th><td>0.4573966 </td><td>0.99999951</td></tr>\n",
       "\t<tr><th scope=row>chr1_171199984_T_C_b38</th><td>0.4605322 </td><td>0.99843224</td></tr>\n",
       "\t<tr><th scope=row>chr1_171252314_G_C_b38</th><td>0.4608848 </td><td>0.03124062</td></tr>\n",
       "\t<tr><th scope=row>chr1_171150061_G_C_b38</th><td>0.4147678 </td><td>0.01524914</td></tr>\n",
       "</tbody>\n",
       "</table>\n"
      ],
      "text/latex": [
       "\\begin{tabular}{r|ll}\n",
       "\tchr1\\_171172098\\_C\\_T\\_b38 & 1.0000000  & 0.99999999\\\\\n",
       "\tchr1\\_171133158\\_A\\_G\\_b38 & 0.4573966  & 0.99999951\\\\\n",
       "\tchr1\\_171199984\\_T\\_C\\_b38 & 0.4605322  & 0.99843224\\\\\n",
       "\tchr1\\_171252314\\_G\\_C\\_b38 & 0.4608848  & 0.03124062\\\\\n",
       "\tchr1\\_171150061\\_G\\_C\\_b38 & 0.4147678  & 0.01524914\\\\\n",
       "\\end{tabular}\n"
      ],
      "text/markdown": [
       "\n",
       "| chr1_171172098_C_T_b38 | 1.0000000  | 0.99999999 | \n",
       "| chr1_171133158_A_G_b38 | 0.4573966  | 0.99999951 | \n",
       "| chr1_171199984_T_C_b38 | 0.4605322  | 0.99843224 | \n",
       "| chr1_171252314_G_C_b38 | 0.4608848  | 0.03124062 | \n",
       "| chr1_171150061_G_C_b38 | 0.4147678  | 0.01524914 | \n",
       "\n",
       "\n"
      ],
      "text/plain": [
       "                       [,1]      [,2]      \n",
       "chr1_171172098_C_T_b38 1.0000000 0.99999999\n",
       "chr1_171133158_A_G_b38 0.4573966 0.99999951\n",
       "chr1_171199984_T_C_b38 0.4605322 0.99843224\n",
       "chr1_171252314_G_C_b38 0.4608848 0.03124062\n",
       "chr1_171150061_G_C_b38 0.4147678 0.01524914"
      ]
     },
     "metadata": {},
     "output_type": "display_data"
    }
   ],
   "source": [
    "bvs.top = names(sort(fit21$alpha[,1], decreasing=T)[1:5])\n",
    "cbind(1 - fit11$lfsr[bvs.top], fit21$alpha[,1][bvs.top])"
   ]
  }
 ],
 "metadata": {
  "kernelspec": {
   "display_name": "R",
   "language": "R",
   "name": "ir"
  },
  "language_info": {
   "codemirror_mode": "r",
   "file_extension": ".r",
   "mimetype": "text/x-r-source",
   "name": "R",
   "pygments_lexer": "r",
   "version": "3.4.0"
  }
 },
 "nbformat": 4,
 "nbformat_minor": 2
}
